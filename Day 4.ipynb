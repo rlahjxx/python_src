{
 "cells": [
  {
   "cell_type": "code",
   "execution_count": 4,
   "id": "842c8ccc",
   "metadata": {},
   "outputs": [
    {
     "name": "stdout",
     "output_type": "stream",
     "text": [
      "name : 기사\n",
      "level : 12\n",
      "sword : 불꽃의 검\n",
      "armor : 풀플레이트\n",
      "skill : 베기\n",
      "skill : 세게 베기\n",
      "skill : 아주 세게 베기\n"
     ]
    }
   ],
   "source": [
    "# 229p 4번 복습\n",
    "character = {\n",
    "    'name' : '기사',\n",
    "    'level' : 12,\n",
    "    'items' : {\n",
    "        'sword': '불꽃의 검',\n",
    "        'armor' : '풀플레이트'\n",
    "    },\n",
    "    'skill' : ['베기', '세게 베기', '아주 세게 베기']\n",
    "}\n",
    "\n",
    "for key in character:  # dic인 경우에는 for i in dic 의 i에 key(고유값)가 들어감\n",
    "    if type(character[key]) == dict:\n",
    "        for item in character[key]:\n",
    "            print(f'{item} : {character[key][item]}')\n",
    "    elif type(character[key]) == list:\n",
    "        for item in character[key]:\n",
    "            print(f'{key} : {item}')\n",
    "    else:\n",
    "        print(f'{key} : {character[key]}')"
   ]
  },
  {
   "cell_type": "code",
   "execution_count": 13,
   "id": "b65373e1",
   "metadata": {
    "scrolled": true
   },
   "outputs": [
    {
     "name": "stdout",
     "output_type": "stream",
     "text": [
      "name : 기사\n",
      "level : 12\n",
      "sword : 불꽃의 검\n",
      "armor : 풀플레이트\n"
     ]
    },
    {
     "ename": "TypeError",
     "evalue": "'list' object is not callable",
     "output_type": "error",
     "traceback": [
      "\u001b[1;31m---------------------------------------------------------------------------\u001b[0m",
      "\u001b[1;31mTypeError\u001b[0m                                 Traceback (most recent call last)",
      "Input \u001b[1;32mIn [13]\u001b[0m, in \u001b[0;36m<cell line: 11>\u001b[1;34m()\u001b[0m\n\u001b[0;32m     14\u001b[0m         \u001b[38;5;28mprint\u001b[39m(\u001b[38;5;124mf\u001b[39m\u001b[38;5;124m'\u001b[39m\u001b[38;5;132;01m{\u001b[39;00mitem\u001b[38;5;132;01m}\u001b[39;00m\u001b[38;5;124m : \u001b[39m\u001b[38;5;132;01m{\u001b[39;00mvalue\u001b[38;5;132;01m}\u001b[39;00m\u001b[38;5;124m'\u001b[39m)\n\u001b[0;32m     15\u001b[0m \u001b[38;5;28;01melif\u001b[39;00m \u001b[38;5;28mtype\u001b[39m(values) \u001b[38;5;129;01mis\u001b[39;00m \u001b[38;5;28mlist\u001b[39m:\n\u001b[1;32m---> 16\u001b[0m     \u001b[38;5;28;01mfor\u001b[39;00m item \u001b[38;5;129;01min\u001b[39;00m \u001b[43mvalues\u001b[49m\u001b[43m(\u001b[49m\u001b[43m)\u001b[49m:\n\u001b[0;32m     17\u001b[0m         \u001b[38;5;28mprint\u001b[39m(\u001b[38;5;124mf\u001b[39m\u001b[38;5;124m'\u001b[39m\u001b[38;5;132;01m{\u001b[39;00mkey\u001b[38;5;132;01m}\u001b[39;00m\u001b[38;5;124m : \u001b[39m\u001b[38;5;132;01m{\u001b[39;00mitem\u001b[38;5;132;01m}\u001b[39;00m\u001b[38;5;124m'\u001b[39m)\n\u001b[0;32m     18\u001b[0m \u001b[38;5;28;01melse\u001b[39;00m:\n",
      "\u001b[1;31mTypeError\u001b[0m: 'list' object is not callable"
     ]
    }
   ],
   "source": [
    "character = {\n",
    "    'name' : '기사',\n",
    "    'level' : 12,\n",
    "    'items' : {\n",
    "        'sword': '불꽃의 검',\n",
    "        'armor' : '풀플레이트'\n",
    "    },\n",
    "    'skill' : ['베기', '세게 베기', '아주 세게 베기']\n",
    "}\n",
    "\n",
    "for key, values in character.items():\n",
    "    if type(values) is dict:\n",
    "        for item, value in values.items():\n",
    "            print(f'{item} : {value}')\n",
    "    elif type(values) is list:\n",
    "        for item in values():\n",
    "            print(f'{key} : {item}')\n",
    "    else:\n",
    "        print(f'{key} : {values}')"
   ]
  },
  {
   "cell_type": "code",
   "execution_count": 12,
   "id": "1bb6e84b",
   "metadata": {},
   "outputs": [
    {
     "name": "stdout",
     "output_type": "stream",
     "text": [
      "name : 기사\n",
      "level : 12\n",
      "sword : 불꽃의 검\n",
      "armor : 풀플레이트\n",
      "skill : 베기\n",
      "skill : 세게 베기\n",
      "skill : 아주 세게 베기\n"
     ]
    }
   ],
   "source": [
    "for key, values in character.items() : # 키와 값을 반환\n",
    "    if type(values) is dict :\n",
    "        for item, value in values.items() :\n",
    "            print(f'{item} : {value}')\n",
    "    elif type(values) is list :\n",
    "        for item in values :\n",
    "            print(f'{key} : {item}')\n",
    "    else :\n",
    "        print(f'{key} : {values}')"
   ]
  },
  {
   "cell_type": "code",
   "execution_count": 17,
   "id": "17292c0b",
   "metadata": {},
   "outputs": [
    {
     "name": "stdout",
     "output_type": "stream",
     "text": [
      "         *\n",
      "        ***\n",
      "       *****\n",
      "      *******\n",
      "     *********\n",
      "    ***********\n",
      "   *************\n",
      "  ***************\n",
      " *****************\n",
      "*******************\n",
      "\n"
     ]
    }
   ],
   "source": [
    "# 앞의 공백 -> 횟수 - 1\n",
    "# * -> 횟수 * 2 - 1\n",
    "output = ''\n",
    "\n",
    "# 10회 반복해서 피라미드 그리기\n",
    "for i in range(1,11):\n",
    "    # 공백 출력 output += ' '\n",
    "    for j in range(10, i, -1):\n",
    "        output += ' '\n",
    "    for k in range(0, 2 * i -1):\n",
    "        output += '*'\n",
    "    output += '\\n'\n",
    "print(output)"
   ]
  },
  {
   "cell_type": "code",
   "execution_count": null,
   "id": "f02d43ba",
   "metadata": {},
   "outputs": [],
   "source": [
    "out = ''\n",
    "for i in range(1, 10+1):\n",
    "    for j in range(0, i):\n",
    "        out += '*'\n",
    "    out += '\\n'\n",
    "print(out)\n",
    "\n",
    "# print() 함수의 end=''를 활용한 방법\n",
    "for i in range(1, 10+1):\n",
    "    for j in range(0,i):\n",
    "        print('*', end='')\n",
    "    print(end='\\n')"
   ]
  },
  {
   "cell_type": "code",
   "execution_count": 19,
   "id": "4b1e7583",
   "metadata": {},
   "outputs": [
    {
     "name": "stdout",
     "output_type": "stream",
     "text": [
      "*\n",
      "**\n",
      "\n"
     ]
    }
   ],
   "source": [
    "out = ''\n",
    "for i in range(0,2):\n",
    "    for j in range(0, i+1):\n",
    "        out += '*'\n",
    "    out += '\\n'\n",
    "print(out)"
   ]
  },
  {
   "cell_type": "code",
   "execution_count": 20,
   "id": "9e88292a",
   "metadata": {},
   "outputs": [
    {
     "ename": "SyntaxError",
     "evalue": "invalid syntax (3342122083.py, line 5)",
     "output_type": "error",
     "traceback": [
      "\u001b[1;36m  Input \u001b[1;32mIn [20]\u001b[1;36m\u001b[0m\n\u001b[1;33m    for j in range()\u001b[0m\n\u001b[1;37m                    ^\u001b[0m\n\u001b[1;31mSyntaxError\u001b[0m\u001b[1;31m:\u001b[0m invalid syntax\n"
     ]
    }
   ],
   "source": [
    "# 공백의 개수\n",
    "# 별의 개수 : 2*횟수-1 \n",
    "out = ''\n",
    "for i in range(0,3):\n",
    "    for j in range()"
   ]
  },
  {
   "cell_type": "code",
   "execution_count": 31,
   "id": "bb908ee7",
   "metadata": {},
   "outputs": [
    {
     "name": "stdout",
     "output_type": "stream",
     "text": [
      "*\n",
      "===================\n",
      "*\n",
      "*\n",
      "===================\n",
      "*\n",
      "*\n",
      "*\n",
      "===================\n",
      "*\n",
      "*\n",
      "*\n",
      "*\n",
      "===================\n",
      "*\n",
      "*\n",
      "*\n",
      "*\n",
      "*\n",
      "===================\n",
      "*\n",
      "*\n",
      "*\n",
      "*\n",
      "*\n",
      "*\n",
      "===================\n",
      "*\n",
      "*\n",
      "*\n",
      "*\n",
      "*\n",
      "*\n",
      "*\n",
      "===================\n",
      "*\n",
      "*\n",
      "*\n",
      "*\n",
      "*\n",
      "*\n",
      "*\n",
      "*\n",
      "===================\n",
      "*\n",
      "*\n",
      "*\n",
      "*\n",
      "*\n",
      "*\n",
      "*\n",
      "*\n",
      "*\n",
      "===================\n"
     ]
    }
   ],
   "source": [
    "# for i in range(1, 10):\n",
    "#     print('*')\n",
    "\n",
    "# for i in range(1,10):\n",
    "#     for j in range(1,i+1) :\n",
    "#         print('*')\n",
    "#     print('===================')\n",
    "\n",
    "# for i in range(1, 10) :\n",
    "#     for j in range(1, i+1) :\n",
    "#         print('*',end='')\n",
    "\n",
    "# for i in range(1, 10):\n",
    "#     for j in range(1, i+1):\n",
    "#         print('*',end='')\n",
    "#         print()\n",
    "\n",
    "# for i in range(1, 10):\n",
    "#     for j in range(1, i+1):\n",
    "#         print('*',end='')\n",
    "#     print()"
   ]
  },
  {
   "cell_type": "code",
   "execution_count": 46,
   "id": "2bb4d066",
   "metadata": {},
   "outputs": [
    {
     "name": "stdout",
     "output_type": "stream",
     "text": [
      "이름, 국어, 영어, 수학 점수를 입력하세요 : a 4 6 5\n",
      "이름, 국어, 영어, 수학 점수를 입력하세요 : b 1 5 3\n",
      "이름, 국어, 영어, 수학 점수를 입력하세요 : q\n",
      "{'a': {'국어': 4, '영어': 6, '수학': 5}, 'b': {'국어': 1, '영어': 5, '수학': 3}}\n",
      "이름을 입력하세요 : a\n",
      "a : {'국어': 4, '영어': 6, '수학': 5}, 15, 5.0\n"
     ]
    }
   ],
   "source": [
    "# 키보드에서 이름, 국어, 영어, 수학 점수를 입력받아 저장 (이름에 'q'가 입력되면 종료)\n",
    "# 검색할 이름을 입력받아 해당 이름의 점수와 총점 평균을 출력\n",
    "# 검색할 이름과 과목명을 입력받아 해당 과목의 점수 출력\n",
    "# {이름 : {국어 : 80, 영어 : 80, 수학 : 70}}\n",
    "# 자료 입력\n",
    "\n",
    "# 하드코딩 -> 새로운 변수가 들어오면 그에 따라 밑에 코드를 수정해야 함\n",
    "students = {}\n",
    "while True :\n",
    "    student = input('이름, 국어, 영어, 수학 점수를 입력하세요 : ').split()\n",
    "    if student[0] == 'q':\n",
    "        break\n",
    "    elif len(student) != 4:\n",
    "        continue\n",
    "    name = student[0]\n",
    "    scores = {}\n",
    "    scores['국어'] = int(student[1])\n",
    "    scores['영어'] = int(student[2])\n",
    "    scores['수학'] = int(student[3])\n",
    "    students[name] = scores\n",
    "print(students)\n",
    "\n",
    "# 이름으로 자료 검색\n",
    "search = input('이름을 입력하세요 : ')\n",
    "if search in students:\n",
    "    tot = students[search]['국어']+students[search]['수학']+students[search]['영어']\n",
    "    print(f'{search} : {students[search]}, {tot}, {tot/3}')\n",
    "else:\n",
    "    print('해당 이름 없음')"
   ]
  },
  {
   "cell_type": "code",
   "execution_count": 79,
   "id": "80822638",
   "metadata": {},
   "outputs": [
    {
     "name": "stdout",
     "output_type": "stream",
     "text": [
      "이름과 과목을 입력하세요 : a 국어\n",
      "해당 과목의 점수는 4입니다.\n"
     ]
    }
   ],
   "source": [
    "# 이름과 과목명으로 자료 검색\n",
    "#student['a']['국어']\n",
    "sd = input('이름과 과목을 입력하세요 : ').split()\n",
    "if sd[0] in students: # \n",
    "    nm = sd[0]\n",
    "    sj = sd[1]\n",
    "    print(f'해당 과목의 점수는 {students[nm][sj]}입니다.')\n",
    "else:\n",
    "    print(f'입력값 오류')\n",
    "#     print(f'{}')"
   ]
  },
  {
   "cell_type": "code",
   "execution_count": 44,
   "id": "849a53ab",
   "metadata": {},
   "outputs": [
    {
     "name": "stdout",
     "output_type": "stream",
     "text": [
      "12\n"
     ]
    }
   ],
   "source": [
    "# 소프트코딩 -> 새로운 과목이 들어와도 밑의 코드를 고칠 필요가 없음\n",
    "students = {}\n",
    "subjects = ['국어', '영어', '수학']\n",
    "while True:\n",
    "    student = input(\"이름 국어 영어 수학 점수 입력 :(종료: 'q')\").split()\n",
    "    if student[0] == 'q':\n",
    "        break\n",
    "    name = student[0]\n",
    "    scores = student[1: ]   #  리스트의 점수를 scores 에 저장\n",
    "    if len(scores) != 3:\n",
    "        continue\n",
    "    sw = ''\n",
    "    for idx, score in enumerate(scores):  # 리스트의 인덱스와 값을 반환\n",
    "        if score.isdigit():\n",
    "            scores[idx] = int(scores[idx])  # 정수형으로 데이터 타입 변경\n",
    "        else:\n",
    "            sw = 'err'\n",
    "            break\n",
    "    if sw:   #  점수에 숫자가 입력되지 않으면 재 입력\n",
    "        print('점수는 숫자로 입력 ')\n",
    "        continue\n",
    "\n",
    "    student_score = {}\n",
    "    for i in range(len(scores)):\n",
    "         student_score[subjects[i]] = scores[i]\n",
    "    students[name] = student_score\n",
    "print(students)\n",
    "#  이름으로 자료 검색\n",
    "search_name = input(\"검색할 이름 입력 : \")\n",
    "scores = students.get(search_name)\n",
    "if scores:\n",
    "    tot = 0\n",
    "    print(f'{search_name}의 성적 --> ', end=' ')\n",
    "    for key in scores:\n",
    "        print(f'{key}:{scores[key]}',end=',  ')\n",
    "        tot += scores[key]\n",
    "    print(f'총점 : {tot},   평균 : {tot/len(scores)}')\n",
    "else:\n",
    "    print('검색하고자 하는 이름 없음 ')\n",
    "#  이름과 과목명으로 자료 검색\n",
    "search_data = input(\"이름 과목명 입력 (ex: 홍길동 영어 )\").split()\n",
    "name = search_data[0]\n",
    "subject = search_data[1]\n",
    "if name in students:\n",
    "    if subject in subjects:\n",
    "        print(f'{name}의  {subject} 점수는 {students[name][subject]} ')\n",
    "else:\n",
    "    print('검색하고자 하는 이름 없음 ')"
   ]
  },
  {
   "cell_type": "code",
   "execution_count": 51,
   "id": "7a6dbadf",
   "metadata": {},
   "outputs": [
    {
     "name": "stdout",
     "output_type": "stream",
     "text": [
      "[0, 4, 16, 36, 64, 100, 144, 196, 256, 324, 400]\n"
     ]
    }
   ],
   "source": [
    "# 0부터 20까지의 수 중에서 2의 배수인 수의 제곱을 리스트로 구함\n",
    "array = []\n",
    "for i in range(0, 20+1, 2):\n",
    "    array.append(i*i)\n",
    "print(array)"
   ]
  },
  {
   "cell_type": "code",
   "execution_count": 54,
   "id": "52eb7027",
   "metadata": {},
   "outputs": [
    {
     "name": "stdout",
     "output_type": "stream",
     "text": [
      "[0, 1, 2, 3, 4]\n",
      "[0, 4, 16, 36, 64, 100, 144, 196, 256, 324, 400]\n"
     ]
    }
   ],
   "source": [
    "# 리스트 내포 [ i for i in 반복자료]\n",
    "array = [i for i in range(5)]\n",
    "print(array)\n",
    "\n",
    "array = [i*i for i in range(0, 20+1, 2)]\n",
    "print(array)"
   ]
  },
  {
   "cell_type": "code",
   "execution_count": 72,
   "id": "ea1ca5d9",
   "metadata": {},
   "outputs": [
    {
     "name": "stdout",
     "output_type": "stream",
     "text": [
      "[0, 1, 4, 3, 16, 5, 36, 7, 64, 9, 100, 11, 144, 13, 196, 15, 256, 17, 324, 19, 400]\n",
      "[0, 4, 16, 36, 64, 100, 144, 196, 256, 324, 400]\n",
      "[0, 1, 4, 3, 16, 5, 36, 7, 64, 9, 100, 11, 144, 13, 196, 15, 256, 17, 324, 19, 400]\n"
     ]
    }
   ],
   "source": [
    "array = []\n",
    "for i in range(0, 21):\n",
    "    if i % 2 == 0:\n",
    "        array.append(i*i)\n",
    "    else:\n",
    "        array.append(i)\n",
    "print(array)\n",
    "\n",
    "# if 조건문 처리가 1개인 경우 - 리스트 내포 [ i for i in 반복자료]\n",
    "array = [i*i for i in range(0, 21) if i % 2 == 0]\n",
    "print(array)\n",
    "\n",
    "# if 조건문 처리가 2개인 경우 - 리스트 내포 [처리1 if 조건문 else 처리2 for i in 반복자료]\n",
    "array = [i*i if i % 2 == 0 else i for i in range(0,21)]\n",
    "print(array)"
   ]
  },
  {
   "cell_type": "code",
   "execution_count": 75,
   "id": "5059777d",
   "metadata": {},
   "outputs": [
    {
     "name": "stdout",
     "output_type": "stream",
     "text": [
      "['abc', 'test', '1234', '5678']\n",
      "abc,test,1234,5678\n"
     ]
    }
   ],
   "source": [
    "# '구분자'.join(리스트)\n",
    "str_a = 'abc test 1234 5678'\n",
    "str_list = str_a.split()\n",
    "print(str_list)\n",
    "\n",
    "# str_list -> 연결 문자를 ','로 join\n",
    "str_join = ','.join(str_list)\n",
    "print(str_join)"
   ]
  },
  {
   "cell_type": "code",
   "execution_count": 82,
   "id": "8289b6d3",
   "metadata": {},
   "outputs": [
    {
     "name": "stdout",
     "output_type": "stream",
     "text": [
      "1753591119616 1753590982784\n",
      "reversed_numbers :  <list_reverseiterator object at 0x000001984A2AE880>\n",
      "5\n"
     ]
    }
   ],
   "source": [
    "numbers = [1,2,3,4,5]\n",
    "r_num = reversed(numbers)\n",
    "\n",
    "print(id(numbers), id(r_num))\n",
    "print(f'reversed_numbers : ', r_num)\n",
    "print(next(r_num))"
   ]
  },
  {
   "cell_type": "code",
   "execution_count": 83,
   "id": "67f5f5ce",
   "metadata": {},
   "outputs": [
    {
     "name": "stdout",
     "output_type": "stream",
     "text": [
      "5\n",
      "4\n",
      "3\n",
      "2\n",
      "1\n"
     ]
    },
    {
     "ename": "StopIteration",
     "evalue": "",
     "output_type": "error",
     "traceback": [
      "\u001b[1;31m---------------------------------------------------------------------------\u001b[0m",
      "\u001b[1;31mStopIteration\u001b[0m                             Traceback (most recent call last)",
      "Input \u001b[1;32mIn [83]\u001b[0m, in \u001b[0;36m<cell line: 5>\u001b[1;34m()\u001b[0m\n\u001b[0;32m      3\u001b[0m \u001b[38;5;28;01mfor\u001b[39;00m i \u001b[38;5;129;01min\u001b[39;00m \u001b[38;5;28mrange\u001b[39m(\u001b[38;5;28mlen\u001b[39m(numbers)):\n\u001b[0;32m      4\u001b[0m     \u001b[38;5;28mprint\u001b[39m(\u001b[38;5;28mnext\u001b[39m(r_num))\n\u001b[1;32m----> 5\u001b[0m \u001b[38;5;28mprint\u001b[39m(\u001b[38;5;28;43mnext\u001b[39;49m\u001b[43m(\u001b[49m\u001b[43mr_num\u001b[49m\u001b[43m)\u001b[49m)\n",
      "\u001b[1;31mStopIteration\u001b[0m: "
     ]
    }
   ],
   "source": [
    "numbers = [1,2,3,4,5]\n",
    "r_num = reversed(numbers)\n",
    "for i in range(len(numbers)):\n",
    "    print(next(r_num))\n",
    "print(next(r_num))  # error"
   ]
  }
 ],
 "metadata": {
  "kernelspec": {
   "display_name": "Python 3 (ipykernel)",
   "language": "python",
   "name": "python3"
  },
  "language_info": {
   "codemirror_mode": {
    "name": "ipython",
    "version": 3
   },
   "file_extension": ".py",
   "mimetype": "text/x-python",
   "name": "python",
   "nbconvert_exporter": "python",
   "pygments_lexer": "ipython3",
   "version": "3.9.12"
  }
 },
 "nbformat": 4,
 "nbformat_minor": 5
}
