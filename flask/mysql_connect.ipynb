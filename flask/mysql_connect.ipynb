{
 "cells": [
  {
   "cell_type": "code",
   "execution_count": 1,
   "id": "59cce815",
   "metadata": {},
   "outputs": [
    {
     "name": "stdout",
     "output_type": "stream",
     "text": [
      "Requirement already satisfied: pymysql in c:\\venv\\myproject\\lib\\site-packages (1.0.2)\n"
     ]
    }
   ],
   "source": [
    "!pip install pymysql"
   ]
  },
  {
   "cell_type": "code",
   "execution_count": 3,
   "id": "79746caf",
   "metadata": {},
   "outputs": [],
   "source": [
    "import pymysql"
   ]
  },
  {
   "cell_type": "code",
   "execution_count": 13,
   "id": "8849b487",
   "metadata": {},
   "outputs": [],
   "source": [
    "# pymqsql 모듈을 통해 db connect한 후 cursor() 오브젝트를 통해 execute(명령어 ex)create... ) 실행 \n",
    "# 데이터베이스 연결\n",
    "db = pymysql.connect(host='localhost', \n",
    "                    user = 'root', \n",
    "                    password = 'password', \n",
    "                    db = 'pydata', \n",
    "                    charset = 'utf8')\n",
    "curs = db.cursor() "
   ]
  },
  {
   "cell_type": "code",
   "execution_count": 7,
   "id": "ba9b198b",
   "metadata": {},
   "outputs": [
    {
     "data": {
      "text/plain": [
       "0"
      ]
     },
     "execution_count": 7,
     "metadata": {},
     "output_type": "execute_result"
    }
   ],
   "source": [
    "# 테이블 생성 : sample(col1, col2, col3)\n",
    "sql = '''create table sample(\n",
    "        col1 varchar(50), \n",
    "        col2 varchar(50), \n",
    "        col3 varchar(50))'''\n",
    "curs.execute(sql)"
   ]
  },
  {
   "cell_type": "code",
   "execution_count": 8,
   "id": "3f7735d4",
   "metadata": {},
   "outputs": [
    {
     "name": "stdout",
     "output_type": "stream",
     "text": [
      "()\n"
     ]
    }
   ],
   "source": [
    "sql = 'select * from sample'\n",
    "curs.execute(sql)\n",
    "\n",
    "rows = curs.fetchall()\n",
    "print(rows)"
   ]
  },
  {
   "cell_type": "code",
   "execution_count": null,
   "id": "5c02564e",
   "metadata": {},
   "outputs": [],
   "source": [
    "# 데이터 삽입 : insert into 테이블명 (컬럼명, ..) values (값, ..)\n",
    "sql = '''insert into sample (col1, col2, col3)\n",
    "        values ('test1', 'test2', 'test3')'''\n",
    "curs.execute(sql)\n",
    "\n",
    "sql = 'select col1, col2 from sample'\n",
    "curs.execute(sql)\n",
    "\n",
    "rows = curs.fetchall() # cursor의 결과 한꺼번에 가져옴\n",
    "print(rows)\n",
    "\n",
    "db.commit()"
   ]
  },
  {
   "cell_type": "code",
   "execution_count": 20,
   "id": "bb78aea5",
   "metadata": {},
   "outputs": [
    {
     "name": "stdout",
     "output_type": "stream",
     "text": [
      "('test1', 'test2')\n",
      "('test1', 'test2')\n",
      "('test1', 'test2')\n",
      "('test1', 'test2')\n",
      "('test1', 'test2')\n",
      "('test1', 'test2')\n"
     ]
    }
   ],
   "source": [
    "for row in rows:\n",
    "    for _ in range(len(row)):\n",
    "        print(row)"
   ]
  },
  {
   "cell_type": "code",
   "execution_count": 21,
   "id": "4c9ba075",
   "metadata": {},
   "outputs": [
    {
     "data": {
      "text/html": [
       "<div>\n",
       "<style scoped>\n",
       "    .dataframe tbody tr th:only-of-type {\n",
       "        vertical-align: middle;\n",
       "    }\n",
       "\n",
       "    .dataframe tbody tr th {\n",
       "        vertical-align: top;\n",
       "    }\n",
       "\n",
       "    .dataframe thead th {\n",
       "        text-align: right;\n",
       "    }\n",
       "</style>\n",
       "<table border=\"1\" class=\"dataframe\">\n",
       "  <thead>\n",
       "    <tr style=\"text-align: right;\">\n",
       "      <th></th>\n",
       "      <th>0</th>\n",
       "      <th>1</th>\n",
       "    </tr>\n",
       "  </thead>\n",
       "  <tbody>\n",
       "    <tr>\n",
       "      <th>0</th>\n",
       "      <td>test1</td>\n",
       "      <td>test2</td>\n",
       "    </tr>\n",
       "    <tr>\n",
       "      <th>1</th>\n",
       "      <td>test1</td>\n",
       "      <td>test2</td>\n",
       "    </tr>\n",
       "    <tr>\n",
       "      <th>2</th>\n",
       "      <td>test1</td>\n",
       "      <td>test2</td>\n",
       "    </tr>\n",
       "  </tbody>\n",
       "</table>\n",
       "</div>"
      ],
      "text/plain": [
       "       0      1\n",
       "0  test1  test2\n",
       "1  test1  test2\n",
       "2  test1  test2"
      ]
     },
     "execution_count": 21,
     "metadata": {},
     "output_type": "execute_result"
    }
   ],
   "source": [
    "import pandas as pd\n",
    "df = pd.DataFrame(rows)\n",
    "df"
   ]
  },
  {
   "cell_type": "code",
   "execution_count": 22,
   "id": "e3cd4be5",
   "metadata": {},
   "outputs": [
    {
     "data": {
      "text/html": [
       "<div>\n",
       "<style scoped>\n",
       "    .dataframe tbody tr th:only-of-type {\n",
       "        vertical-align: middle;\n",
       "    }\n",
       "\n",
       "    .dataframe tbody tr th {\n",
       "        vertical-align: top;\n",
       "    }\n",
       "\n",
       "    .dataframe thead th {\n",
       "        text-align: right;\n",
       "    }\n",
       "</style>\n",
       "<table border=\"1\" class=\"dataframe\">\n",
       "  <thead>\n",
       "    <tr style=\"text-align: right;\">\n",
       "      <th></th>\n",
       "      <th>col1</th>\n",
       "      <th>col2</th>\n",
       "    </tr>\n",
       "  </thead>\n",
       "  <tbody>\n",
       "    <tr>\n",
       "      <th>0</th>\n",
       "      <td>test1</td>\n",
       "      <td>test2</td>\n",
       "    </tr>\n",
       "    <tr>\n",
       "      <th>1</th>\n",
       "      <td>test1</td>\n",
       "      <td>test2</td>\n",
       "    </tr>\n",
       "    <tr>\n",
       "      <th>2</th>\n",
       "      <td>test1</td>\n",
       "      <td>test2</td>\n",
       "    </tr>\n",
       "  </tbody>\n",
       "</table>\n",
       "</div>"
      ],
      "text/plain": [
       "    col1   col2\n",
       "0  test1  test2\n",
       "1  test1  test2\n",
       "2  test1  test2"
      ]
     },
     "execution_count": 22,
     "metadata": {},
     "output_type": "execute_result"
    }
   ],
   "source": [
    "df.columns = ['col1', 'col2']\n",
    "df"
   ]
  },
  {
   "cell_type": "code",
   "execution_count": null,
   "id": "eea8534d",
   "metadata": {},
   "outputs": [],
   "source": [
    "# 데이터 수정 : update 테이블명 set 컬럼명 = 값, .. wh\n",
    "sql = '''update sample set\n",
    "        col1 = 'cc, col2 = 'bb'\n",
    "        where coll = 'a')\n",
    "        '''\n",
    "curs.execute(sql)\n",
    "\n",
    "sql = 'select * from sample'\n",
    "curs.execute(sql)\n",
    "\n",
    "rows = curs.fetchall()  # 데이터 가져오기\n",
    "print(rows)\n",
    "\n",
    "db.commit()"
   ]
  },
  {
   "cell_type": "code",
   "execution_count": null,
   "id": "db722171",
   "metadata": {},
   "outputs": [],
   "source": [
    "# 데이터 삭제 : delete from 테이블명 where 컬럼명 = 값\n",
    "sql = '''\n",
    "    delete from sample\n",
    "    where coll = 'cc'\n",
    "'''\n",
    "curs.execute(sql)"
   ]
  },
  {
   "cell_type": "code",
   "execution_count": 12,
   "id": "833c7e0c",
   "metadata": {},
   "outputs": [],
   "source": [
    "db.close()  # 데이터 연결 끊기 위해 마지막에 선언"
   ]
  }
 ],
 "metadata": {
  "kernelspec": {
   "display_name": "Python 3 (ipykernel)",
   "language": "python",
   "name": "python3"
  },
  "language_info": {
   "codemirror_mode": {
    "name": "ipython",
    "version": 3
   },
   "file_extension": ".py",
   "mimetype": "text/x-python",
   "name": "python",
   "nbconvert_exporter": "python",
   "pygments_lexer": "ipython3",
   "version": "3.9.12"
  }
 },
 "nbformat": 4,
 "nbformat_minor": 5
}
