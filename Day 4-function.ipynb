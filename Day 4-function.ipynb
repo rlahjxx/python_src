{
 "cells": [
  {
   "cell_type": "markdown",
   "id": "6d3ba7ba",
   "metadata": {},
   "source": [
    "# chapter 5 함수\n",
    "## chapter 5-1 함수 만들기\n",
    "- def 함수명() :"
   ]
  },
  {
   "cell_type": "code",
   "execution_count": 19,
   "id": "8d484a63",
   "metadata": {},
   "outputs": [],
   "source": [
    "# 함수 정의\n",
    "def print_3_times():\n",
    "    list_a = [1]\n",
    "    print('Hello')\n",
    "    print('Hello')\n",
    "    print('Hello', list_a[0])\n",
    "    \n",
    "def print_n_times(value, n):  # value를 n번 출력하는 함수\n",
    "    for i in range(n):\n",
    "        print(value)\n",
    "\n",
    "def print_n_var_times(n, *value):  # *value는 가변 매개변수, *value는 리스트처럼 활용\n",
    "    for i in range(n):\n",
    "        for val in value:\n",
    "            print(val)\n",
    "            \n",
    "def print_key_val(*values, n=3):\n",
    "    for i in range(n):\n",
    "        for value in values:\n",
    "            print(value)\n",
    "            \n",
    "# def 함수명(일반 매개변수 b, 가변 매개변수 *var, 기본 매개변수 a=' ')"
   ]
  },
  {
   "cell_type": "code",
   "execution_count": 20,
   "id": "73325124",
   "metadata": {},
   "outputs": [
    {
     "name": "stdout",
     "output_type": "stream",
     "text": [
      "Hello\n",
      "Hello\n",
      "Hello 1\n",
      "test\n",
      "test\n",
      "test\n",
      "val\n",
      "test\n",
      "val\n",
      "\n",
      "test\n",
      "key val\n",
      "test\n",
      "key val\n",
      "test\n",
      "key val\n",
      "\n",
      "test\n",
      "key val\n",
      "test\n",
      "key val\n"
     ]
    }
   ],
   "source": [
    "# 함수 실행\n",
    "print_3_times()\n",
    "print_n_times('test', 2)\n",
    "print_n_var_times(2, 'test', 'val')\n",
    "print()\n",
    "print_key_val('test', 'key val')  # n=3으로 함수 설정\n",
    "print()\n",
    "print_key_val('test', 'key val', n=2)  # n=2으로 함수 설정"
   ]
  },
  {
   "cell_type": "code",
   "execution_count": 24,
   "id": "7494bf75",
   "metadata": {},
   "outputs": [
    {
     "name": "stdout",
     "output_type": "stream",
     "text": [
      "11111 \n",
      "100\n"
     ]
    }
   ],
   "source": [
    "# 리턴 : return 값\n",
    "def return_test():\n",
    "    print('11111 ')\n",
    "    return\n",
    "    print('22222 ')\n",
    "    \n",
    "def return_value():\n",
    "    return 100\n",
    "    \n",
    "# 함수를 호출\n",
    "return_test()\n",
    "val = return_value()\n",
    "print(val)"
   ]
  },
  {
   "cell_type": "code",
   "execution_count": 31,
   "id": "85426519",
   "metadata": {},
   "outputs": [
    {
     "name": "stdout",
     "output_type": "stream",
     "text": [
      "165\n",
      "165\n"
     ]
    }
   ],
   "source": [
    "# 문제 1) 숫자 2개를 넘겨받아 두수 사이의 합을 구하는 함수 정의 및 실행\n",
    "def dual_sum(start, end):\n",
    "    total = 0\n",
    "    if start < end:\n",
    "        for i in range(start, end + 1):\n",
    "            total += i\n",
    "    else:\n",
    "        for i in range(end, start + 1):\n",
    "            total += i\n",
    "    return total\n",
    "\n",
    "print(dual_sum(10,20))\n",
    "print(dual_sum(20,10))"
   ]
  },
  {
   "cell_type": "code",
   "execution_count": 30,
   "id": "eb3d4b89",
   "metadata": {},
   "outputs": [
    {
     "name": "stdout",
     "output_type": "stream",
     "text": [
      "5050\n",
      "250000\n",
      "495349\n"
     ]
    }
   ],
   "source": [
    "# 문제 2) start = 1, end = 100, step = 1이고 start에서 end까지 step만큼 건너뛰면서 합을 구하는 함수 작성\n",
    "def sum_all(start=1, end=100, step=1):\n",
    "    total=0\n",
    "    for i in range(start, end+1, step):\n",
    "        total += i\n",
    "    return total\n",
    "\n",
    "print(sum_all())\n",
    "print(sum_all(start=1, end=1000, step=2))\n",
    "print(sum_all(start=1000, step=-1))"
   ]
  },
  {
   "cell_type": "code",
   "execution_count": 51,
   "id": "2adb442a",
   "metadata": {},
   "outputs": [],
   "source": [
    "def check_data(cal):\n",
    "    if len(cal) != 3:\n",
    "        return False\n",
    "    if cal[0].isdigit() and cal[2].isdigit() and cal[1] in '+-*/':\n",
    "        return True\n",
    "    else:\n",
    "        return False\n",
    "\n",
    "def plus_func(num1, num2):\n",
    "    return num1 + num2\n",
    "def minus_func(num1, num2):\n",
    "    return num1 - num2\n",
    "def mul_func(num1, num2):\n",
    "    return num1 * num2\n",
    "def div_func(num1, num2):\n",
    "    return num1 / num2"
   ]
  },
  {
   "cell_type": "code",
   "execution_count": 52,
   "id": "5dd2a9ff",
   "metadata": {},
   "outputs": [
    {
     "name": "stdout",
     "output_type": "stream",
     "text": [
      "계산식 입력 :  3 + 5 2 + 4\n",
      "2 + 4 = 6\n",
      "계산식 입력 :  3 + 5 q\n",
      "program end\n"
     ]
    }
   ],
   "source": [
    "# 문제 3) 계산기 프로그램 작성\n",
    "# 각 계산식을 구하는 함수로 작성\n",
    "# 1. 계산식 입력 -> 2. 부호에 따른 함수 호출 -> 3. 결과 출력\n",
    "while True:\n",
    "    cal = input(\"계산식 입력 :  3 + 5 \").split()\n",
    "    if cal[0] == 'q':\n",
    "        break\n",
    "    if not check_data(cal):   # 입력된 자료의 상태 체크\n",
    "        continue\n",
    "    if cal[1] == '+':\n",
    "        result = plus_func(int(cal[0]), int(cal[2]))\n",
    "    elif cal[1] == '-':\n",
    "        result = minus_func(int(cal[0]), int(cal[2]))\n",
    "    elif cal[1] == '*':\n",
    "        result = mul_func(int(cal[0]), int(cal[2]))\n",
    "    else:\n",
    "        result = div_func(int(cal[0]), int(cal[2]))\n",
    "    print(f'{cal[0]} {cal[1]} {cal[2]} = {result}')\n",
    "print('program end')"
   ]
  },
  {
   "cell_type": "code",
   "execution_count": 49,
   "id": "f3d2a7f3",
   "metadata": {},
   "outputs": [],
   "source": [
    "# 학생의 이름과 성적을 입력받아 이름을 키로 성적을 갑으로 딕셔너리 저장\n",
    "# 1. 이름을 입력받아 해당 학생의 성적을 출력, 과목의 갯수 출력, 총점 출력\n",
    "# 2. 전체 학생의 인원수 출력\n",
    "# 이름 성적 입력 : 홍길동 90\n",
    "#                : 김철수 80 90 100 # 성적은 가변형\n",
    "# input_data()\n",
    "# search_data()\n",
    "# student_cnt()\n",
    "\n",
    "def input_data():\n",
    "    students = {}\n",
    "    while True:\n",
    "        student = input(\"이름 성적 입력 성적은 가변 :(종료: 'q')\").split()\n",
    "        if student[0] == 'q':\n",
    "            break\n",
    "        name = student[0]   # name <- a\n",
    "        scores = student[1: ]   #  리스트의 점수를 scores 에 저장  scores = ['88', '99', '100']\n",
    "        sw = ''\n",
    "        for idx, score in enumerate(scores):  # 리스트의 인덱스와 값을 반환\n",
    "            if score.isdigit():\n",
    "                scores[idx] = int(scores[idx])  # 정수형으로 데이터 타입 변경  scores -> [ 88, 99 , 100]\n",
    "            else:\n",
    "                sw = 'err'\n",
    "                break\n",
    "        if sw:   #  점수에 숫자가 입력되지 않으면 재 입력\n",
    "            print('점수는 숫자로 입력 ')\n",
    "            continue\n",
    "\n",
    "        students[name] = scores\n",
    "    return students\n",
    "\n",
    "def search_data(students):\n",
    "    search_name = input(\"검색할 이름 입력 : \")\n",
    "    for key in students:  # get 함수 사용 안함\n",
    "        if search_name == key:\n",
    "            scores = students[key]\n",
    "            break\n",
    "#     scores = students.get(search_name) get 함수 사용\n",
    "    if scores:\n",
    "        print(f'{search_name} : {scores},  총점 : {sum(scores)}, 과목의 갯수 : {len(scores)}')\n",
    "    else:\n",
    "        print('검색하고자 하는 이름 없음 ')\n",
    "\n",
    "def student_cnt(students):\n",
    "    return len(students)"
   ]
  },
  {
   "cell_type": "code",
   "execution_count": null,
   "id": "0b6fe4d0",
   "metadata": {},
   "outputs": [],
   "source": [
    "def var_func(*values):\n",
    "    for value in values:\n",
    "        print(value)\n",
    "        \n",
    "var_func(1,2,3,4)"
   ]
  },
  {
   "cell_type": "markdown",
   "id": "1cff46d9",
   "metadata": {},
   "source": [
    "## chapter 5-2 함수의 활용\n",
    "- 재귀함수\n",
    "- 메모화"
   ]
  },
  {
   "cell_type": "code",
   "execution_count": 57,
   "id": "e62e0b79",
   "metadata": {},
   "outputs": [
    {
     "name": "stdout",
     "output_type": "stream",
     "text": [
      "3 ! : 6\n",
      "10 ! : 3628800\n"
     ]
    }
   ],
   "source": [
    "# 팩토리얼 구하기 : for 문을 사용 : n! = n * (n-1)!\n",
    "def factorial(n):\n",
    "    output = 1\n",
    "    for i in range(1, n+1):\n",
    "        output *= i\n",
    "    return output\n",
    "\n",
    "print(f'3 ! : {factorial(3)}')\n",
    "print(f'10 ! : {factorial(10)}')"
   ]
  },
  {
   "cell_type": "code",
   "execution_count": 59,
   "id": "2ade8cb3",
   "metadata": {},
   "outputs": [
    {
     "name": "stdout",
     "output_type": "stream",
     "text": [
      "6\n",
      "3628800\n"
     ]
    }
   ],
   "source": [
    "# 재귀 함수로 구현 : fact(n) = n * fact(n-1) n>=1 같은 경우 => 메모리 문제 해결 -> 메모화\n",
    "def fact(n):\n",
    "    if n == 0:\n",
    "        return 1\n",
    "    return n * fact(n-1)\n",
    "\n",
    "print(fact(3))\n",
    "print(fact(10))"
   ]
  },
  {
   "cell_type": "code",
   "execution_count": 64,
   "id": "826bdb80",
   "metadata": {},
   "outputs": [
    {
     "name": "stdout",
     "output_type": "stream",
     "text": [
      "counter :  5 9\n",
      "counter :  55 118\n"
     ]
    }
   ],
   "source": [
    "# fibo() 함수 정의\n",
    "counter = 0\n",
    "def fibo(n):\n",
    "    global counter\n",
    "    counter += 1\n",
    "    if n == 1 or n == 2:\n",
    "        return 1\n",
    "    return fibo(n-1) + fibo(n-2)\n",
    "print('counter : ', fibo(5), counter)\n",
    "print('counter : ', fibo(10), counter)"
   ]
  },
  {
   "cell_type": "code",
   "execution_count": 67,
   "id": "248750ba",
   "metadata": {},
   "outputs": [
    {
     "name": "stdout",
     "output_type": "stream",
     "text": [
      "5 counter :  7\n",
      "354224848179261915075 counter :  198\n"
     ]
    }
   ],
   "source": [
    "# fibo() 함수 정의 : 메모화를 이용하여 함수 호출의 횟수 줄임\n",
    "dictionary = {1:1, \n",
    "             2:1}\n",
    "counter = 0\n",
    "def fibo_dict(n):\n",
    "    global counter\n",
    "    counter += 1\n",
    "    if n in dictionary:\n",
    "        return dictionary[n]\n",
    "    else:\n",
    "        output = fibo_dict(n-1) + fibo_dict(n-2)\n",
    "        dictionary[n] = output\n",
    "        return output\n",
    "print(fibo_dict(5), 'counter : ', counter)\n",
    "print(fibo_dict(100), 'counter : ', counter)"
   ]
  },
  {
   "cell_type": "code",
   "execution_count": 75,
   "id": "e5f2c238",
   "metadata": {},
   "outputs": [
    {
     "data": {
      "text/plain": [
       "[1, 2, 3, 4, 5, 6, 7, 8, 9, 10]"
      ]
     },
     "execution_count": 75,
     "metadata": {},
     "output_type": "execute_result"
    }
   ],
   "source": [
    "# 재귀 함수를 이용하여 평탄화\n",
    "def fla(data)\n",
    "    for item in data:\n",
    "        if type(item) == list:\n",
    "            output += fla(item)\n",
    "        else:\n",
    "            output.append(item)\n",
    "    return output\n",
    "\n",
    "fla([1,[2,[3,4],5], [6,7], [[8,9], [10]]])"
   ]
  },
  {
   "cell_type": "code",
   "execution_count": null,
   "id": "03409056",
   "metadata": {},
   "outputs": [],
   "source": [
    "[2,[3,4],5]"
   ]
  },
  {
   "cell_type": "code",
   "execution_count": null,
   "id": "adfd32a5",
   "metadata": {},
   "outputs": [],
   "source": [
    "[3,4]"
   ]
  }
 ],
 "metadata": {
  "kernelspec": {
   "display_name": "Python 3 (ipykernel)",
   "language": "python",
   "name": "python3"
  },
  "language_info": {
   "codemirror_mode": {
    "name": "ipython",
    "version": 3
   },
   "file_extension": ".py",
   "mimetype": "text/x-python",
   "name": "python",
   "nbconvert_exporter": "python",
   "pygments_lexer": "ipython3",
   "version": "3.9.12"
  }
 },
 "nbformat": 4,
 "nbformat_minor": 5
}
