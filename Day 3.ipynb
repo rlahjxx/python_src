{
 "cells": [
  {
   "cell_type": "code",
   "execution_count": 1,
   "id": "3273b0ac",
   "metadata": {},
   "outputs": [
    {
     "name": "stdout",
     "output_type": "stream",
     "text": [
      "[0, 1, 2, 3, 4, 5, 6, 7, 8, 9]\n"
     ]
    }
   ],
   "source": [
    "list_a = []\n",
    "for number in range(10):\n",
    "    list_a.append(number)\n",
    "print(list_a)"
   ]
  },
  {
   "cell_type": "code",
   "execution_count": 5,
   "id": "6cd1a61b",
   "metadata": {},
   "outputs": [
    {
     "name": "stdout",
     "output_type": "stream",
     "text": [
      "[1, 2, 3, 4, 5, 6, 7, 8, 9]\n",
      "[[1, 4, 7], [2, 5, 8], [3, 6, 9]]\n"
     ]
    }
   ],
   "source": [
    "numbers =list(range(1, 9 + 1))\n",
    "print(numbers)\n",
    "output = [ [], [], [] ]  # 3으로 나눈 나머지 값이 1인 요소는 output[0]\n",
    "for number in numbers:\n",
    "    output[(number%3)-1].append(number)\n",
    "print(output)"
   ]
  },
  {
   "cell_type": "markdown",
   "id": "5e9ef10c",
   "metadata": {},
   "source": [
    "\n",
    "# 1~2일차 복습\n",
    "\n",
    "- 파이썬의 자료형 : str, int, float, boolean, list[]\n",
    "- str = '', list = [] -> object[ start : stop ] -> index 로 접근 (start 포함 및 stop 미포함)\n",
    "- 문자열 관련 함수 : 문자열.strip(), 문자열.split(), 문자열.find('문자') -> 문자의 위치 반환, 문자열.format()\n",
    "- 리스트 관련 함수 : 리스트.append(요소), 리스트.insert(위치, 요소), 리스트.extend(리스트), 리스트.pop(위치),\n",
    "                      del 리스트[인덱스], 리스트.reomove(값), 리스트.clear()\n",
    "- datetime.datetime.now() -> tesr, month, day, ...\n",
    "- datetime.datetime.now().year ---\n",
    "- 조건문 if 표현식:  elif 표현식: ~ else\n",
    "- 반복분 for 변수 in  반복자료: -> 자료를 처음부터 하나씩 가져와서 변수 대입"
   ]
  },
  {
   "cell_type": "code",
   "execution_count": 9,
   "id": "84cccd37",
   "metadata": {},
   "outputs": [
    {
     "name": "stdout",
     "output_type": "stream",
     "text": [
      "자료 입력 : 0\n",
      "0는 숫자이다.\n"
     ]
    }
   ],
   "source": [
    "# QUIZ) 임의의 문자를 입력받아 변수에 저장한 후 한글자씩 가져와서\n",
    "#       해당 글자가 숫자이면 숫자라고 출력\n",
    "#       문자면 문자라고 출력\n",
    "#       특수문자면 특수문자라고 출력\n",
    "input_data = input('자료 입력 : ')\n",
    "for i in input_data:\n",
    "    if i.isdigit():\n",
    "        print(f'{i}는 숫자이다.')\n",
    "    elif i.isalpha():\n",
    "        print(f'{i}는 문자이다.')\n",
    "    else:\n",
    "        print(f'{i}는 특수문자이다.')"
   ]
  },
  {
   "cell_type": "markdown",
   "id": "cbaa15f7",
   "metadata": {},
   "source": [
    "## chapter 04-2 딕셔너리와 반복문\n",
    "- 딕셔너리는 {키:값,...}으로 구성되어 있음"
   ]
  },
  {
   "cell_type": "code",
   "execution_count": 15,
   "id": "d7fcdfb1",
   "metadata": {},
   "outputs": [
    {
     "name": "stdout",
     "output_type": "stream",
     "text": [
      "{'director': ['안소니 루소', '조 루소'], 'cast': ['아이언맨', '타노스', '토르'], 'item': 'test'} <class 'dict'>\n",
      "조 루소\n",
      "안소니 루소\n",
      "조 루소\n",
      "아이언맨\n",
      "타노스\n",
      "토르\n",
      "test\n"
     ]
    }
   ],
   "source": [
    "dict_a = {'director':['안소니 루소', '조 루소'],\n",
    "         'cast':['아이언맨', '타노스', '토르'], \n",
    "         'item': 'test'}\n",
    "print(dict_a, type(dict_a))\n",
    "# 조 루소를 출력\n",
    "print(dict_a['director'][1])  # directory의 데이터 접근 -> 키  ex)딕셔너리[키]\n",
    "# 값들만 출력\n",
    "for key in dict_a:  #딕셔너리는 키를 가져옴\n",
    "    if type(dict_a[key]) == list:\n",
    "        for item in dict_a[key]:\n",
    "            print(item)\n",
    "    else:\n",
    "        print(dict_a[key])"
   ]
  },
  {
   "cell_type": "code",
   "execution_count": 20,
   "id": "c671be21",
   "metadata": {},
   "outputs": [
    {
     "name": "stdout",
     "output_type": "stream",
     "text": [
      "요소 추가 이전 : {}\n",
      "요소 추가 이후 : {'name': '홍길동', 'score': 90}\n",
      "score 제거 이후 :  {'name': '홍길동'}\n"
     ]
    }
   ],
   "source": [
    "dict_b = {}\n",
    "print('요소 추가 이전 :', dict_b)\n",
    "\n",
    "dict_b[\"name\"] = '홍길동'\n",
    "dict_b['score'] = 90\n",
    "print('요소 추가 이후 :', dict_b)\n",
    "\n",
    "# score 제거\n",
    "del dict_b['score']\n",
    "print('score 제거 이후 : ', dict_b)"
   ]
  },
  {
   "cell_type": "code",
   "execution_count": 24,
   "id": "b5601ec9",
   "metadata": {},
   "outputs": [
    {
     "data": {
      "text/plain": [
       "True"
      ]
     },
     "execution_count": 24,
     "metadata": {},
     "output_type": "execute_result"
    }
   ],
   "source": [
    "#dict_a에 키가 존재하는지 확인 -> key in 딕셔너리 : True or False\n",
    "dict_a\n",
    "'cast' in dict_a"
   ]
  },
  {
   "cell_type": "code",
   "execution_count": 90,
   "id": "0e288709",
   "metadata": {},
   "outputs": [
    {
     "name": "stdout",
     "output_type": "stream",
     "text": [
      "['아이언맨', '타노스', '토르']\n",
      "['안소니 루소', '조 루소']\n",
      "dict_items([('director', ['안소니 루소', '조 루소']), ('cast', ['아이언맨', '타노스', '토르']), ('item', 'test')])\n",
      "dict_keys(['director', 'cast', 'item'])\n",
      "dict_values([['안소니 루소', '조 루소'], ['아이언맨', '타노스', '토르'], 'test'])\n"
     ]
    }
   ],
   "source": [
    "print(dict_a.get('cast'))# 딕셔너리.get(키) -> 값을 반환\n",
    "print(dict_a.get('director'))\n",
    "print(dict_a.items())  # 키와 값을 (키, 값) 형식으로 반환\n",
    "print(dict_a.keys())  # 키를 리스트 형식으로 반환\n",
    "print(dict_a.values())  # 값들을 리스트 형식으로 반환"
   ]
  },
  {
   "cell_type": "code",
   "execution_count": 31,
   "id": "2d9d0db7",
   "metadata": {},
   "outputs": [
    {
     "name": "stdout",
     "output_type": "stream",
     "text": [
      "{1: 3, 2: 4, 6: 1, 8: 2, 4: 3, 3: 3, 9: 3, 5: 2, 7: 2}\n"
     ]
    }
   ],
   "source": [
    "# 228p 문제\n",
    "numbers = [1,2,6,8,4,3,2,1,9,5,4,9,7,2,1,3,5,4,8,9,7,2,3]\n",
    "counter = {}\n",
    "\n",
    "for number in numbers:\n",
    "    if number in counter:\n",
    "        counter[number] += 1\n",
    "    else:\n",
    "        counter[number] = 1\n",
    "print(counter)"
   ]
  },
  {
   "cell_type": "markdown",
   "id": "b9c95599",
   "metadata": {},
   "source": [
    "## chapter 04-3 범위 자료형과 while 반복문\n",
    "- range(start, stop, step)"
   ]
  },
  {
   "cell_type": "code",
   "execution_count": 36,
   "id": "c23c5aed",
   "metadata": {},
   "outputs": [
    {
     "name": "stdout",
     "output_type": "stream",
     "text": [
      "273\n",
      "43\n",
      "56\n",
      "34\n",
      "20\n",
      "0번쨰의 값 273\n",
      "1번쨰의 값 43\n",
      "2번쨰의 값 56\n",
      "3번쨰의 값 34\n",
      "4번쨰의 값 20\n",
      "4번쨰의 값 20\n",
      "3번쨰의 값 34\n",
      "2번쨰의 값 56\n",
      "1번쨰의 값 43\n",
      "0번쨰의 값 273\n",
      "\n",
      "20\n",
      "34\n",
      "56\n",
      "43\n",
      "273\n"
     ]
    }
   ],
   "source": [
    "list_a = [273,43,56,34,20]\n",
    "for element in list_a:\n",
    "    print(element)\n",
    "\n",
    "# 리스트의 인덱스와 값을 동시에 출력\n",
    "for i in range(len(list_a)):\n",
    "    print(f'{i}번쨰의 값 {list_a[i]}')\n",
    "\n",
    "# 리스트의 인덱스와 값을 동시에 출력 (뒤에서부터)\n",
    "for i in reversed(range(len(list_a))):\n",
    "    print(f'{i}번쨰의 값 {list_a[i]}')\n",
    "    \n",
    "print()\n",
    "for element in reversed(list_a):  # 마지막 자료부터 거꾸로\n",
    "    print(element)"
   ]
  },
  {
   "cell_type": "code",
   "execution_count": 42,
   "id": "722a90cf",
   "metadata": {},
   "outputs": [
    {
     "name": "stdout",
     "output_type": "stream",
     "text": [
      "*\n",
      "**\n",
      "***\n",
      "****\n",
      "*****\n",
      "******\n",
      "*******\n",
      "********\n",
      "*********\n",
      "**********\n",
      "\n",
      "*\n",
      "**\n",
      "***\n",
      "****\n",
      "*****\n",
      "******\n",
      "*******\n",
      "********\n",
      "*********\n",
      "**********\n"
     ]
    }
   ],
   "source": [
    "out = ''\n",
    "for i in range(1, 10+1):\n",
    "    for j in range(0, i):\n",
    "        out += '*'\n",
    "    out += '\\n'\n",
    "print(out)\n",
    "\n",
    "# print() 함수의 end=''를 활용한 방법\n",
    "for i in range(1, 10+1):\n",
    "    for j in range(0,i):\n",
    "        print('*', end='')  # end의 default 값 = \\n\n",
    "    print(end='\\n')"
   ]
  },
  {
   "cell_type": "code",
   "execution_count": 58,
   "id": "f4e03685",
   "metadata": {},
   "outputs": [
    {
     "name": "stdout",
     "output_type": "stream",
     "text": [
      "2단\t\t3단\t\t4단\t\t5단\t\t\n",
      "2 * 1 = 2\t3 * 1 = 3\t4 * 1 = 4\t5 * 1 = 5\t\n",
      "2 * 2 = 4\t3 * 2 = 6\t4 * 2 = 8\t5 * 2 = 10\t\n",
      "2 * 3 = 6\t3 * 3 = 9\t4 * 3 = 12\t5 * 3 = 15\t\n",
      "2 * 4 = 8\t3 * 4 = 12\t4 * 4 = 16\t5 * 4 = 20\t\n",
      "2 * 5 = 10\t3 * 5 = 15\t4 * 5 = 20\t5 * 5 = 25\t\n",
      "2 * 6 = 12\t3 * 6 = 18\t4 * 6 = 24\t5 * 6 = 30\t\n",
      "2 * 7 = 14\t3 * 7 = 21\t4 * 7 = 28\t5 * 7 = 35\t\n",
      "2 * 8 = 16\t3 * 8 = 24\t4 * 8 = 32\t5 * 8 = 40\t\n",
      "2 * 9 = 18\t3 * 9 = 27\t4 * 9 = 36\t5 * 9 = 45\t\n",
      "6단\t\t7단\t\t8단\t\t9단\t\t\n",
      "6 * 1 = 6\t7 * 1 = 7\t8 * 1 = 8\t9 * 1 = 9\t\n",
      "6 * 2 = 12\t7 * 2 = 14\t8 * 2 = 16\t9 * 2 = 18\t\n",
      "6 * 3 = 18\t7 * 3 = 21\t8 * 3 = 24\t9 * 3 = 27\t\n",
      "6 * 4 = 24\t7 * 4 = 28\t8 * 4 = 32\t9 * 4 = 36\t\n",
      "6 * 5 = 30\t7 * 5 = 35\t8 * 5 = 40\t9 * 5 = 45\t\n",
      "6 * 6 = 36\t7 * 6 = 42\t8 * 6 = 48\t9 * 6 = 54\t\n",
      "6 * 7 = 42\t7 * 7 = 49\t8 * 7 = 56\t9 * 7 = 63\t\n",
      "6 * 8 = 48\t7 * 8 = 56\t8 * 8 = 64\t9 * 8 = 72\t\n",
      "6 * 9 = 54\t7 * 9 = 63\t8 * 9 = 72\t9 * 9 = 81\t\n"
     ]
    }
   ],
   "source": [
    "for i in range(2,10,4):\n",
    "    for dan in range(i, i+4):\n",
    "        print('{:d}단\\t'.format(dan), end='\\t')\n",
    "    print()\n",
    "    for j in range(1,10):\n",
    "        for dan in range(i, i+4):\n",
    "            print('{} * {} = {}'.format(dan, j, dan*j), end='\\t')\n",
    "        print()"
   ]
  },
  {
   "cell_type": "code",
   "execution_count": 1,
   "id": "1d404107",
   "metadata": {},
   "outputs": [
    {
     "name": "stdout",
     "output_type": "stream",
     "text": [
      "    2단\t\t    3단\t\t    4단\t\t    5단\t\t\n",
      "2 * 1 = 4\t3 * 1 = 6\t4 * 1 = 8\t5 * 1 = 10\t\n",
      "2 * 2 = 4\t3 * 2 = 6\t4 * 2 = 8\t5 * 2 = 10\t\n",
      "2 * 3 = 4\t3 * 3 = 6\t4 * 3 = 8\t5 * 3 = 10\t\n",
      "2 * 4 = 4\t3 * 4 = 6\t4 * 4 = 8\t5 * 4 = 10\t\n",
      "2 * 5 = 4\t3 * 5 = 6\t4 * 5 = 8\t5 * 5 = 10\t\n",
      "2 * 6 = 4\t3 * 6 = 6\t4 * 6 = 8\t5 * 6 = 10\t\n",
      "2 * 7 = 4\t3 * 7 = 6\t4 * 7 = 8\t5 * 7 = 10\t\n",
      "2 * 8 = 4\t3 * 8 = 6\t4 * 8 = 8\t5 * 8 = 10\t\n",
      "2 * 9 = 4\t3 * 9 = 6\t4 * 9 = 8\t5 * 9 = 10\t\n",
      "    6단\t\t    7단\t\t    8단\t\t    9단\t\t\n",
      "6 * 1 = 36\t7 * 1 = 42\t8 * 1 = 48\t9 * 1 = 54\t\n",
      "6 * 2 = 36\t7 * 2 = 42\t8 * 2 = 48\t9 * 2 = 54\t\n",
      "6 * 3 = 36\t7 * 3 = 42\t8 * 3 = 48\t9 * 3 = 54\t\n",
      "6 * 4 = 36\t7 * 4 = 42\t8 * 4 = 48\t9 * 4 = 54\t\n",
      "6 * 5 = 36\t7 * 5 = 42\t8 * 5 = 48\t9 * 5 = 54\t\n",
      "6 * 6 = 36\t7 * 6 = 42\t8 * 6 = 48\t9 * 6 = 54\t\n",
      "6 * 7 = 36\t7 * 7 = 42\t8 * 7 = 48\t9 * 7 = 54\t\n",
      "6 * 8 = 36\t7 * 8 = 42\t8 * 8 = 48\t9 * 8 = 54\t\n",
      "6 * 9 = 36\t7 * 9 = 42\t8 * 9 = 48\t9 * 9 = 54\t\n"
     ]
    }
   ],
   "source": [
    "# 구구단 로직\n",
    "for i in range(2,10,4):\n",
    "    for num in range(i, i+4):\n",
    "        print(f'    {num}단\\t', end='\\t')\n",
    "    print()\n",
    "    for j in range(1,10):\n",
    "        for num in range(i, i+4):\n",
    "            print(f'{num} * {j} = {num*i}', end='\\t')\n",
    "        print()"
   ]
  },
  {
   "cell_type": "code",
   "execution_count": 62,
   "id": "26b47331",
   "metadata": {},
   "outputs": [
    {
     "name": "stdout",
     "output_type": "stream",
     "text": [
      "0\n",
      "1\n",
      "2\n",
      "3\n",
      "4\n",
      "5\n",
      "6\n",
      "7\n",
      "8\n",
      "9\n",
      "0\n",
      "1\n",
      "2\n",
      "3\n",
      "4\n",
      "5\n",
      "6\n",
      "7\n",
      "8\n",
      "9\n"
     ]
    }
   ],
   "source": [
    "# while 표현식 : 식이 True이면 실행(계속)\n",
    "# while True:\n",
    "#     print('.', end='')\n",
    "for i in range(10):\n",
    "    print(i)\n",
    "# while 문장으로 변형\n",
    "i = 0\n",
    "while i < 10:\n",
    "    print(i)\n",
    "    i += 1"
   ]
  },
  {
   "cell_type": "code",
   "execution_count": 68,
   "id": "016b8c1f",
   "metadata": {},
   "outputs": [
    {
     "name": "stdout",
     "output_type": "stream",
     "text": [
      "0\n",
      "1\n",
      "2\n",
      "3\n",
      "4\n",
      "5\n",
      "6\n",
      "7\n",
      "8\n",
      "9\n"
     ]
    }
   ],
   "source": [
    "i = 0\n",
    "while True:\n",
    "    print(i)\n",
    "    i += 1\n",
    "    if i > 9:\n",
    "        break  # 반복문 탈출"
   ]
  },
  {
   "cell_type": "code",
   "execution_count": 73,
   "id": "b1eb1e77",
   "metadata": {},
   "outputs": [
    {
     "name": "stdout",
     "output_type": "stream",
     "text": [
      "2 : 2\n",
      "4 : 6\n",
      "6 : 12\n",
      "8 : 20\n",
      "10 : 30\n"
     ]
    }
   ],
   "source": [
    "# 1부터 10까지의 수 중에서 2의 배수의 합을 구함\n",
    "tot = 0\n",
    "i = 0\n",
    "while True:\n",
    "    if i > 10:\n",
    "        break  # 반복문 탈출\n",
    "    i += 1\n",
    "    if i % 2 == 0:\n",
    "        tot += i\n",
    "    else:\n",
    "        continue  # 이후에 나오는 문장 실행하지 않고 While 문장으로 jump\n",
    "    print(f'{i} : {tot}')"
   ]
  },
  {
   "cell_type": "code",
   "execution_count": 92,
   "id": "1dc6242e",
   "metadata": {},
   "outputs": [
    {
     "name": "stdout",
     "output_type": "stream",
     "text": [
      "구구단을 출력할 숫자 입력(2~9, 종료는 'q')4\n",
      "4 * 1 = 4\n",
      "4 * 2 = 8\n",
      "4 * 3 = 12\n",
      "4 * 4 = 16\n",
      "4 * 5 = 20\n",
      "4 * 6 = 24\n",
      "4 * 7 = 28\n",
      "4 * 8 = 32\n",
      "4 * 9 = 36\n",
      "구구단을 출력할 숫자 입력(2~9, 종료는 'q')q\n"
     ]
    }
   ],
   "source": [
    "# 문제) 2부터 9 사이의 숫자를 입력받아 해당 숫자의 구구단 출력\n",
    "# 입력한 자료에 'q'가 입력되면 종료\n",
    "while True:\n",
    "    dan = input(\"구구단을 출력할 숫자 입력(2~9, 종료는 'q')\")\n",
    "    if dan == 'q':\n",
    "        break\n",
    "    if not dan.isdigit() or (int(dan) < 2 or int(dan) > 9):\n",
    "        print(\"구구단을 출력할 숫자 입력(2~9, 종료는 'q')\")\n",
    "        continue\n",
    "    dan=int(dan)\n",
    "    if dan < 2 or dan >9:\n",
    "        print(\"구구단을 출력할 숫자 입력(2~9, 종료는 'q')\")\n",
    "        continue\n",
    "        \n",
    "    for j in range(1,10):\n",
    "        print(f'{dan} * {j} = {dan * j}')"
   ]
  },
  {
   "cell_type": "code",
   "execution_count": 95,
   "id": "3e3d6da3",
   "metadata": {},
   "outputs": [
    {
     "name": "stdout",
     "output_type": "stream",
     "text": [
      "이름과 성적을 입력하세요 : 홍길동 80\n",
      "['홍길동', '80']\n"
     ]
    }
   ],
   "source": [
    "# 문제) 이름과 성적을 입력받아 이름을 키로 성적을 값으로 딕셔너리에 저장\n",
    "#       이름에 'q'가 입력되면 입력 종료\n",
    "#       1. 입력된 자료를 홍길동 80 이러한 형식으로 출력\n",
    "#       2. 검색하고자 하는 이름 입력 -> 입력된 이름을 검색한 후 해당 점수 출력\n",
    "#       3. 전체 입력한 학생의 학생 수와 총첨 평균을 출력\n",
    "#       4. 홍길동 80 입력은 이름과 성적을 동시에 입력\n",
    "input_data = input('이름과 성적을 입력하세요 : ').split()\n",
    "while True :\n",
    "    if input_data[0] == 'q':\n",
    "        break\n",
    "    if input_data.isalpha():"
   ]
  },
  {
   "cell_type": "code",
   "execution_count": 3,
   "id": "17e98218",
   "metadata": {},
   "outputs": [
    {
     "name": "stdout",
     "output_type": "stream",
     "text": [
      "이름 성적 입력 : 김현정 90\n",
      "이름 성적 입력 : 김현조 70\n",
      "이름 성적 입력 : q\n",
      "{'김현정': 90, '김현조': 70}\n",
      "검색하고자 하는 이름 : 김현정\n",
      "김현정 : 90\n",
      "김현정 : 90\n",
      "인원수 : 2   총점 : 160   평균 : 80.0\n"
     ]
    }
   ],
   "source": [
    "# 문제) 이름과 성적을 입력받아 이름을 키로 성적을 값으로 딕셔너리에 저장\n",
    "#       이름에 'q'가 입력되면 입력 종료\n",
    "#       1. 입력된 자료를 홍길동 80 이러한 형식으로 출력\n",
    "#       2. 검색하고자 하는 이름 입력 -> 입력된 이름을 검색한 후 해당 점수 출력\n",
    "#       3. 전체 입력한 학생의 학생 수와 총첨 평균을 출력\n",
    "#       4. 홍길동 80 입력은 이름과 성적을 동시에 입력\n",
    "\n",
    "# name = '홍길동'\n",
    "# students[name] = 80\n",
    "# 이름과 성적을 입력받아 문자열을 space로 분리해서 처음 자료는 name에, 두번째 자료는 score 저장\n",
    "# name이 'q'이면 입력 종료\n",
    "#  아니면 students에 자료 저장\n",
    "students = {}\n",
    "while True:\n",
    "    student = input('이름 성적 입력 : ').split()\n",
    "    if student[0] == 'q':\n",
    "        break\n",
    "\n",
    "    if len(student) !=2 :\n",
    "        print('이름 성적 입력 : ')\n",
    "        continue\n",
    "\n",
    "    name = student[0]\n",
    "    score = student[1]\n",
    "    if score.isdigit() :\n",
    "        score = int(score)\n",
    "    else:\n",
    "        print('이름 성적 입력 : ')\n",
    "        continue\n",
    "\n",
    "    students[name] = score\n",
    "\n",
    "print(students)\n",
    "search_name = input(\"검색하고자 하는 이름 : \")\n",
    "# get() 함수 사용 예\n",
    "score = students.get(search_name)\n",
    "if score:\n",
    "    print(f'{search_name} : {score}')\n",
    "else:\n",
    "    print('검색된 이름 없음')\n",
    "# key in 딕셔너리 를 이용\n",
    "if search_name in students:   # 딕셔너리에 키가 있는지 확인 -> True\n",
    "    print(f'{search_name} : {students[search_name]}')\n",
    "else:\n",
    "    print('검색된 이름 없음')\n",
    "# 전체 학생의 인원수, 총점, 평균 구함\n",
    "tot = 0\n",
    "for key in students:\n",
    "    tot += students[key]\n",
    "\n",
    "print(f'인원수 : {len(students)}   총점 : {tot}   평균 : {tot/len(students)}')"
   ]
  },
  {
   "cell_type": "code",
   "execution_count": 111,
   "id": "5089b764",
   "metadata": {},
   "outputs": [
    {
     "name": "stdout",
     "output_type": "stream",
     "text": [
      "이름 성적 입력 : a 80\n",
      "이름 성적 입력 : w 70\n",
      "이름 성적 입력 : q\n",
      "{'a': 80, 'w': 70}\n"
     ]
    }
   ],
   "source": [
    "students = {}\n",
    "while True :\n",
    "    student = input('이름 성적 입력 : ').split()\n",
    "    if student[0] == 'q':\n",
    "        break\n",
    "    if len(student) != 2:\n",
    "        continue\n",
    "    name = student[0]\n",
    "    grade = student[1]\n",
    "    if grade.isdigit() :\n",
    "        grade = int(grade)\n",
    "    else:\n",
    "        print('이름 성적 입력 : ')\n",
    "        continue\n",
    "    students[name]=grade\n",
    "print(students)\n",
    "\n",
    "search_name =input('이름을 검색하세요 : ')\n",
    "if search_name in students:\n",
    "    print(f'{search_name} : {students[search_name]}')\n",
    "else:\n",
    "    print('검색된 이름 없음')\n"
   ]
  },
  {
   "cell_type": "code",
   "execution_count": 1,
   "id": "529a46e0",
   "metadata": {},
   "outputs": [
    {
     "name": "stdout",
     "output_type": "stream",
     "text": [
      "이름과 국어 영어 수학 성적을 입력하세요 : a 40 70 60\n",
      "이름과 국어 영어 수학 성적을 입력하세요 : b 30 90 20\n",
      "이름과 국어 영어 수학 성적을 입력하세요 : q\n",
      "{'a': [40, 70, 60], 'b': [30, 90, 20]}\n",
      "{'a': [40, 70, 60, 170, 56.666666666666664], 'b': [30, 90, 20, 140, 46.666666666666664]}\n",
      "[70, 160, 80]\n",
      "평균 : 35.0\t평균 : 80.0\t평균 : 40.0\t\n"
     ]
    }
   ],
   "source": [
    "# 이름과 국어 영어 수학 성적을 입력받아 이름을 키로 딕셔너리에 저장\n",
    "# 이름에 'q'가 입력되면 입력 종료\n",
    "# 각 학생의 총점 평균 추가\n",
    "# 전체 학생의 과목별 총점, 평균을 구하세요\n",
    "students = {}\n",
    "\n",
    "while True :\n",
    "    student = input('이름과 국어 영어 수학 성적을 입력하세요 : ').split()\n",
    "    if student[0] == 'q':\n",
    "        break\n",
    "    if len(student) != 4:\n",
    "        continue\n",
    "    name = student[0]\n",
    "    scores = []\n",
    "    for i in range(1,4):\n",
    "        scores.append(int(student[i]))\n",
    "    students[name] = scores\n",
    "print(students)\n",
    "\n",
    "# 각 학생의 총점, 평균 추가\n",
    "for key in students:\n",
    "    scores = students[key]\n",
    "    tot = 0\n",
    "    for score in scores :\n",
    "        tot += score\n",
    "    students[key].append(tot)\n",
    "    students[key].append(tot/3)\n",
    "print(students)\n",
    "\n",
    "# 전체 학생의 과목별 총점, 평균을 구하세요\n",
    "tot_students = [0,0,0]\n",
    "for key in students:\n",
    "    scores = students[key]\n",
    "    for i in range(len(scores)-2):\n",
    "        tot_students[i] += scores[i]\n",
    "print(tot_students)\n",
    "for i in range(len(tot_students)):\n",
    "    print(f'평균 : {tot_students[i]/len(students)}', end='\\t')\n",
    "print()"
   ]
  },
  {
   "cell_type": "code",
   "execution_count": null,
   "id": "1b5abb98",
   "metadata": {},
   "outputs": [],
   "source": [
    "list -> []\n",
    "dictionary => dict -> {}"
   ]
  },
  {
   "cell_type": "code",
   "execution_count": null,
   "id": "3f90e1cf",
   "metadata": {},
   "outputs": [],
   "source": [
    "list_a = [1,2,3]\n",
    "list[0] = 10\n",
    "list_a.append(4)"
   ]
  },
  {
   "cell_type": "code",
   "execution_count": 124,
   "id": "00ef96d2",
   "metadata": {},
   "outputs": [
    {
     "name": "stdout",
     "output_type": "stream",
     "text": [
      "90\n",
      "{'김현조': 90, '김현정': 70}\n",
      "{'김현조': 40, '김현정': 70}\n"
     ]
    }
   ],
   "source": [
    "dic = {}\n",
    "dic = {'김현조' : 90}\n",
    "print(dic['김현조'])\n",
    "dic['김현정'] = 70\n",
    "print(dic)\n",
    "dic['김현조'] = 40\n",
    "print(dic)"
   ]
  },
  {
   "cell_type": "code",
   "execution_count": 128,
   "id": "b178f92f",
   "metadata": {},
   "outputs": [
    {
     "name": "stdout",
     "output_type": "stream",
     "text": [
      "[1]\n",
      "[2, 3]\n",
      "[4]\n"
     ]
    }
   ],
   "source": [
    "dict_b = {'a' : [1], 'b' : [2,3], 'c' : [4]}\n",
    "for key in dict_b:\n",
    "    score = dict_b[key]\n",
    "    print(score)"
   ]
  },
  {
   "cell_type": "code",
   "execution_count": 136,
   "id": "07e54d3e",
   "metadata": {},
   "outputs": [
    {
     "name": "stdout",
     "output_type": "stream",
     "text": [
      "이름과 국어 영어 수학 성적을 입력하세요 : a 40 90 40\n",
      "이름과 국어 영어 수학 성적을 입력하세요 : b 80 30 50\n",
      "이름과 국어 영어 수학 성적을 입력하세요 : q\n",
      "{'a': [40, 90, 40], 'b': [80, 30, 50]}\n"
     ]
    }
   ],
   "source": [
    "# 이름과 국어 영어 수학 성적을 입력받아 이름을 키로 딕셔너리에 저장\n",
    "# 이름에 'q'가 입력되면 입력 종료\n",
    "# 각 학생의 총점 평균 추가\n",
    "# 전체 학생의 과목별 총점, 평균을 구하세요\n",
    "\n",
    "students = {}\n",
    "while True :\n",
    "    student = input('이름과 국어 영어 수학 성적을 입력하세요 : ').split()\n",
    "    if student[0] == 'q' :\n",
    "        break\n",
    "    if len(student) != 4 :\n",
    "        continue\n",
    "    name = student[0]\n",
    "    scores = []\n",
    "    for i in range(1,4):\n",
    "        scores.append(int(student[i]))\n",
    "    students[name] = scores\n",
    "print(students)\n",
    "\n",
    "# 각 학생의 총점 평균 추가\n",
    "for key in students:\n",
    "    scores = students[key]\n",
    "    total = 0\n",
    "    for score in scores :\n",
    "        total += score\n",
    "    students[key].append(total)\n",
    "    students[key].append(total/3)"
   ]
  },
  {
   "cell_type": "code",
   "execution_count": 138,
   "id": "807edd1a",
   "metadata": {},
   "outputs": [
    {
     "ename": "KeyboardInterrupt",
     "evalue": "Interrupted by user",
     "output_type": "error",
     "traceback": [
      "\u001b[1;31m---------------------------------------------------------------------------\u001b[0m",
      "\u001b[1;31mKeyboardInterrupt\u001b[0m                         Traceback (most recent call last)",
      "Input \u001b[1;32mIn [138]\u001b[0m, in \u001b[0;36m<cell line: 2>\u001b[1;34m()\u001b[0m\n\u001b[0;32m      1\u001b[0m \u001b[38;5;28;01mwhile\u001b[39;00m \u001b[38;5;28;01mTrue\u001b[39;00m:\n\u001b[1;32m----> 2\u001b[0m     input_data \u001b[38;5;241m=\u001b[39m \u001b[38;5;28;43minput\u001b[39;49m\u001b[43m(\u001b[49m\u001b[38;5;124;43m\"\u001b[39;49m\u001b[38;5;124;43m계산식 입력 : ex) 3 + 5 \u001b[39;49m\u001b[38;5;124;43m\"\u001b[39;49m\u001b[43m)\u001b[49m\u001b[38;5;241m.\u001b[39msplit()\n\u001b[0;32m      3\u001b[0m     \u001b[38;5;28;01mif\u001b[39;00m input_data[\u001b[38;5;241m0\u001b[39m] \u001b[38;5;241m==\u001b[39m \u001b[38;5;124m'\u001b[39m\u001b[38;5;124mq\u001b[39m\u001b[38;5;124m'\u001b[39m:\n\u001b[0;32m      4\u001b[0m         \u001b[38;5;28;01mbreak\u001b[39;00m\n",
      "File \u001b[1;32mC:\\ProgramData\\Anaconda3\\lib\\site-packages\\ipykernel\\kernelbase.py:1075\u001b[0m, in \u001b[0;36mKernel.raw_input\u001b[1;34m(self, prompt)\u001b[0m\n\u001b[0;32m   1071\u001b[0m \u001b[38;5;28;01mif\u001b[39;00m \u001b[38;5;129;01mnot\u001b[39;00m \u001b[38;5;28mself\u001b[39m\u001b[38;5;241m.\u001b[39m_allow_stdin:\n\u001b[0;32m   1072\u001b[0m     \u001b[38;5;28;01mraise\u001b[39;00m StdinNotImplementedError(\n\u001b[0;32m   1073\u001b[0m         \u001b[38;5;124m\"\u001b[39m\u001b[38;5;124mraw_input was called, but this frontend does not support input requests.\u001b[39m\u001b[38;5;124m\"\u001b[39m\n\u001b[0;32m   1074\u001b[0m     )\n\u001b[1;32m-> 1075\u001b[0m \u001b[38;5;28;01mreturn\u001b[39;00m \u001b[38;5;28;43mself\u001b[39;49m\u001b[38;5;241;43m.\u001b[39;49m\u001b[43m_input_request\u001b[49m\u001b[43m(\u001b[49m\n\u001b[0;32m   1076\u001b[0m \u001b[43m    \u001b[49m\u001b[38;5;28;43mstr\u001b[39;49m\u001b[43m(\u001b[49m\u001b[43mprompt\u001b[49m\u001b[43m)\u001b[49m\u001b[43m,\u001b[49m\n\u001b[0;32m   1077\u001b[0m \u001b[43m    \u001b[49m\u001b[38;5;28;43mself\u001b[39;49m\u001b[38;5;241;43m.\u001b[39;49m\u001b[43m_parent_ident\u001b[49m\u001b[43m[\u001b[49m\u001b[38;5;124;43m\"\u001b[39;49m\u001b[38;5;124;43mshell\u001b[39;49m\u001b[38;5;124;43m\"\u001b[39;49m\u001b[43m]\u001b[49m\u001b[43m,\u001b[49m\n\u001b[0;32m   1078\u001b[0m \u001b[43m    \u001b[49m\u001b[38;5;28;43mself\u001b[39;49m\u001b[38;5;241;43m.\u001b[39;49m\u001b[43mget_parent\u001b[49m\u001b[43m(\u001b[49m\u001b[38;5;124;43m\"\u001b[39;49m\u001b[38;5;124;43mshell\u001b[39;49m\u001b[38;5;124;43m\"\u001b[39;49m\u001b[43m)\u001b[49m\u001b[43m,\u001b[49m\n\u001b[0;32m   1079\u001b[0m \u001b[43m    \u001b[49m\u001b[43mpassword\u001b[49m\u001b[38;5;241;43m=\u001b[39;49m\u001b[38;5;28;43;01mFalse\u001b[39;49;00m\u001b[43m,\u001b[49m\n\u001b[0;32m   1080\u001b[0m \u001b[43m\u001b[49m\u001b[43m)\u001b[49m\n",
      "File \u001b[1;32mC:\\ProgramData\\Anaconda3\\lib\\site-packages\\ipykernel\\kernelbase.py:1120\u001b[0m, in \u001b[0;36mKernel._input_request\u001b[1;34m(self, prompt, ident, parent, password)\u001b[0m\n\u001b[0;32m   1117\u001b[0m             \u001b[38;5;28;01mbreak\u001b[39;00m\n\u001b[0;32m   1118\u001b[0m \u001b[38;5;28;01mexcept\u001b[39;00m \u001b[38;5;167;01mKeyboardInterrupt\u001b[39;00m:\n\u001b[0;32m   1119\u001b[0m     \u001b[38;5;66;03m# re-raise KeyboardInterrupt, to truncate traceback\u001b[39;00m\n\u001b[1;32m-> 1120\u001b[0m     \u001b[38;5;28;01mraise\u001b[39;00m \u001b[38;5;167;01mKeyboardInterrupt\u001b[39;00m(\u001b[38;5;124m\"\u001b[39m\u001b[38;5;124mInterrupted by user\u001b[39m\u001b[38;5;124m\"\u001b[39m) \u001b[38;5;28;01mfrom\u001b[39;00m \u001b[38;5;28mNone\u001b[39m\n\u001b[0;32m   1121\u001b[0m \u001b[38;5;28;01mexcept\u001b[39;00m \u001b[38;5;167;01mException\u001b[39;00m:\n\u001b[0;32m   1122\u001b[0m     \u001b[38;5;28mself\u001b[39m\u001b[38;5;241m.\u001b[39mlog\u001b[38;5;241m.\u001b[39mwarning(\u001b[38;5;124m\"\u001b[39m\u001b[38;5;124mInvalid Message:\u001b[39m\u001b[38;5;124m\"\u001b[39m, exc_info\u001b[38;5;241m=\u001b[39m\u001b[38;5;28;01mTrue\u001b[39;00m)\n",
      "\u001b[1;31mKeyboardInterrupt\u001b[0m: Interrupted by user"
     ]
    }
   ],
   "source": [
    "# 계산기 처리\n",
    "while True:\n",
    "    input_data = input(\"계산식 입력 : ex) 3 + 5 \").split()\n",
    "    if input_data[0] == 'q':\n",
    "        break\n",
    "    if len(input_data) != 3:\n",
    "        continue\n",
    "    num1 = input_data[0]\n",
    "    buho = input_data[1]\n",
    "    num2 = input_data[2]\n",
    "    if not num1.isdigit() or not num2.isdigit() or \\\n",
    "       not buho in '+-/':\n",
    "        continue\n",
    "\n",
    "    if buho == '+':\n",
    "        result = int(num1) + int(num2)\n",
    "    elif buho == '-':\n",
    "        result = int(num1) - int(num2)\n",
    "    elif buho == '':\n",
    "        result = int(num1) * int(num2)\n",
    "    else:\n",
    "        if num2 == '0':\n",
    "            print('처리 불능')\n",
    "            continue\n",
    "        else:\n",
    "            result = int(num1) / int(num2)\n",
    "    print(f'{num1} {buho} {num2} = {result}')"
   ]
  },
  {
   "cell_type": "code",
   "execution_count": 140,
   "id": "9c81f750",
   "metadata": {},
   "outputs": [
    {
     "data": {
      "text/plain": [
       "[70, 80, 90]"
      ]
     },
     "execution_count": 140,
     "metadata": {},
     "output_type": "execute_result"
    }
   ],
   "source": [
    "max([90,80,70])\n",
    "min([90,80,70])\n",
    "sum([90,80,70])\n",
    "list(reversed([90,80,70]))"
   ]
  },
  {
   "cell_type": "code",
   "execution_count": 144,
   "id": "b02de4f6",
   "metadata": {},
   "outputs": [
    {
     "name": "stdout",
     "output_type": "stream",
     "text": [
      "[80, 90, 60, 70]\n",
      "[70, 60, 90, 80]\n",
      "first -- 80\n",
      "first -- 90\n",
      "first -- 60\n",
      "first -- 70\n",
      "second -- 80\n",
      "second -- 90\n",
      "second -- 60\n",
      "second -- 70\n",
      "second -- 70\n",
      "second -- 60\n",
      "second -- 90\n",
      "second -- 80\n"
     ]
    }
   ],
   "source": [
    "list_a = [80,90,60,70]\n",
    "list_r = reversed(list_a)\n",
    "\n",
    "print(list_a)\n",
    "print(list(list_r))\n",
    "\n",
    "# 반복문으로 리스트의 값 출력\n",
    "for i in list_a:\n",
    "    print('first -- {}'.format(i))\n",
    "for i in list_a:\n",
    "    print('second -- {}'.format(i))\n",
    "\n",
    "# reversed한 list_r 출력\n",
    "for i in list_r:\n",
    "    print('first -- {}'.format(i))\n",
    "\n",
    "list_r = reversed(list_a)  #사용하기 직전애 reversed 함수 사용 -> 제너레이터 함수\n",
    "for i in list_r:\n",
    "    print('second -- {}'.format(i))"
   ]
  },
  {
   "cell_type": "code",
   "execution_count": 147,
   "id": "c726fb16",
   "metadata": {},
   "outputs": [
    {
     "name": "stdout",
     "output_type": "stream",
     "text": [
      "0번째 요소의 값은 80\n",
      "1번째 요소의 값은 90\n",
      "2번째 요소의 값은 60\n",
      "3번째 요소의 값은 70\n",
      "\n",
      "0번째 요소의 값은 80\n",
      "1번째 요소의 값은 90\n",
      "2번째 요소의 값은 60\n",
      "3번째 요소의 값은 70\n"
     ]
    }
   ],
   "source": [
    "list_a = [80, 90, 60, 70]\n",
    "for i in range(len(list_a)):\n",
    "    print(f'{i}번째 요소의 값은 {list_a[i]}')\n",
    "\n",
    "# enumerate() -> 리스트의 위치와 값을 반환\n",
    "print()\n",
    "for i, value in enumerate(list_a):\n",
    "    print(f'{i}번째 요소의 값은 {value}')"
   ]
  },
  {
   "cell_type": "code",
   "execution_count": 149,
   "id": "7ba48af0",
   "metadata": {},
   "outputs": [
    {
     "name": "stdout",
     "output_type": "stream",
     "text": [
      "홍길동의 값은 [90, 80, 70]\n",
      "김철수의 값은 [77, 80, 100]\n",
      "dict_items([('홍길동', [90, 80, 70]), ('김철수', [77, 80, 100])])\n",
      "dict_values([[90, 80, 70], [77, 80, 100]])\n",
      "dict_keys(['홍길동', '김철수'])\n"
     ]
    }
   ],
   "source": [
    "dict_a = {'홍길동': [90, 80, 70], \n",
    "         '김철수': [77, 80, 100]}\n",
    "for key, value in dict_a.items():\n",
    "    print(f'{key}의 값은 {value}')\n",
    "\n",
    "print(dict_a.items())  # 키와 값을 반환\n",
    "print(dict_a.values())  # 값들만 반환\n",
    "print(dict_a.keys())   # 키만 반환"
   ]
  },
  {
   "cell_type": "code",
   "execution_count": 155,
   "id": "4b91abfe",
   "metadata": {},
   "outputs": [
    {
     "name": "stdout",
     "output_type": "stream",
     "text": [
      "[80, 90, 60, 70]\n",
      "[100, 90, 60, 70]\n",
      "[100, 90, 60, 70]\n",
      "[100, 'test', 60, 70]\n",
      "[100, 90, 60, 70]\n"
     ]
    }
   ],
   "source": [
    "list_a = [80, 90, 60, 70]\n",
    "list_b = list_a\n",
    "print(list_b)\n",
    "list_b[0] = 100\n",
    "print(list_b)\n",
    "print(list_a)\n",
    "\n",
    "list_c = list_a.copy()\n",
    "list_c[1] = 'test'\n",
    "print(list_c)\n",
    "print(list_a)"
   ]
  },
  {
   "cell_type": "code",
   "execution_count": null,
   "id": "2ba9e08d",
   "metadata": {},
   "outputs": [],
   "source": []
  }
 ],
 "metadata": {
  "kernelspec": {
   "display_name": "Python 3 (ipykernel)",
   "language": "python",
   "name": "python3"
  },
  "language_info": {
   "codemirror_mode": {
    "name": "ipython",
    "version": 3
   },
   "file_extension": ".py",
   "mimetype": "text/x-python",
   "name": "python",
   "nbconvert_exporter": "python",
   "pygments_lexer": "ipython3",
   "version": "3.9.12"
  }
 },
 "nbformat": 4,
 "nbformat_minor": 5
}
