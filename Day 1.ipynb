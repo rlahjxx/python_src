{
 "cells": [
  {
   "cell_type": "code",
   "execution_count": 1,
   "metadata": {},
   "outputs": [
    {
     "name": "stdout",
     "output_type": "stream",
     "text": [
      "hello world\n"
     ]
    }
   ],
   "source": [
    "print('hello world')"
   ]
  },
  {
   "cell_type": "markdown",
   "metadata": {},
   "source": [
    "## 여러개의 실행 결과는 마지막만 출력 해준다"
   ]
  },
  {
   "cell_type": "code",
   "execution_count": 4,
   "metadata": {},
   "outputs": [
    {
     "data": {
      "text/plain": [
       "-10"
      ]
     },
     "execution_count": 4,
     "metadata": {},
     "output_type": "execute_result"
    }
   ],
   "source": [
    "10 + 20\n",
    "10 - 20"
   ]
  },
  {
   "cell_type": "code",
   "execution_count": 5,
   "metadata": {},
   "outputs": [
    {
     "name": "stdout",
     "output_type": "stream",
     "text": [
      "30\n"
     ]
    },
    {
     "data": {
      "text/plain": [
       "-10"
      ]
     },
     "execution_count": 5,
     "metadata": {},
     "output_type": "execute_result"
    }
   ],
   "source": [
    "print(10 + 20)\n",
    "\n",
    "10 - 20"
   ]
  },
  {
   "cell_type": "markdown",
   "metadata": {},
   "source": [
    "## 커서가 cell 안에서 움직이면 입력모드, ESC키를 누르면 명령어 모드"
   ]
  },
  {
   "cell_type": "markdown",
   "metadata": {},
   "source": [
    "# 키워드 리스트 보기\n",
    "\n",
    "## 함수 설명 단축키 : shift + tab"
   ]
  },
  {
   "cell_type": "code",
   "execution_count": 7,
   "metadata": {},
   "outputs": [
    {
     "name": "stdout",
     "output_type": "stream",
     "text": [
      "['False', 'None', 'True', 'and', 'as', 'assert', 'async', 'await', 'break', 'class', 'continue', 'def', 'del', 'elif', 'else', 'except', 'finally', 'for', 'from', 'global', 'if', 'import', 'in', 'is', 'lambda', 'nonlocal', 'not', 'or', 'pass', 'raise', 'return', 'try', 'while', 'with', 'yield']\n"
     ]
    }
   ],
   "source": [
    "import keyword\n",
    "\n",
    "print(keyword.kwlist)"
   ]
  },
  {
   "cell_type": "code",
   "execution_count": 8,
   "metadata": {},
   "outputs": [
    {
     "data": {
      "text/plain": [
       "'1020'"
      ]
     },
     "execution_count": 8,
     "metadata": {},
     "output_type": "execute_result"
    }
   ],
   "source": [
    "10 + 20 # 30 출력\n",
    "'10' + '20' # 1020 출력 문자열 연결 출력"
   ]
  },
  {
   "cell_type": "code",
   "execution_count": 31,
   "metadata": {},
   "outputs": [
    {
     "name": "stdout",
     "output_type": "stream",
     "text": [
      "10 20 1020\n"
     ]
    }
   ],
   "source": [
    "print(10 ,20 , '10' + '20')"
   ]
  },
  {
   "cell_type": "markdown",
   "metadata": {},
   "source": [
    "## 파이썬 자료형 : 문자열, 숫자, 불리언\n",
    "## type(자료형) => 자료의 데이터 타입을 반환 해주는 함수"
   ]
  },
  {
   "cell_type": "code",
   "execution_count": 14,
   "metadata": {},
   "outputs": [
    {
     "name": "stdout",
     "output_type": "stream",
     "text": [
      "<class 'str'> <class 'int'> <class 'float'> <class 'bool'>\n"
     ]
    }
   ],
   "source": [
    "print(type('test'), type(12), type(12.4), type(True))"
   ]
  },
  {
   "cell_type": "code",
   "execution_count": 15,
   "metadata": {},
   "outputs": [
    {
     "name": "stdout",
     "output_type": "stream",
     "text": [
      "<class 'str'>\n"
     ]
    }
   ],
   "source": [
    "print(type('test'))"
   ]
  },
  {
   "cell_type": "code",
   "execution_count": 16,
   "metadata": {},
   "outputs": [
    {
     "data": {
      "text/plain": [
       "str"
      ]
     },
     "execution_count": 16,
     "metadata": {},
     "output_type": "execute_result"
    }
   ],
   "source": [
    "type('test')"
   ]
  },
  {
   "cell_type": "code",
   "execution_count": 18,
   "metadata": {},
   "outputs": [
    {
     "name": "stdout",
     "output_type": "stream",
     "text": [
      "\"안녕하세요\"\n"
     ]
    }
   ],
   "source": [
    "# 문자열 안에 \" 또는 ' 을 작성하고자 할 경우 : escape 사용(\\특수문자) -> 일반 문자로 인식\n",
    "print('\\\"안녕하세요\\\"')"
   ]
  },
  {
   "cell_type": "code",
   "execution_count": 27,
   "metadata": {},
   "outputs": [
    {
     "name": "stdout",
     "output_type": "stream",
     "text": [
      "김현정\t25\t서울\n",
      "현조\t30\t서울\n"
     ]
    }
   ],
   "source": [
    "print(\"김현정\\t25\\t서울\")\n",
    "print(\"현조\\t30\\t서울\")"
   ]
  },
  {
   "cell_type": "code",
   "execution_count": 29,
   "metadata": {},
   "outputs": [
    {
     "name": "stdout",
     "output_type": "stream",
     "text": [
      "동해물과\n",
      "백두산이\n",
      "마르고\n"
     ]
    }
   ],
   "source": [
    "print('''동해물과\n",
    "백두산이\n",
    "마르고''')"
   ]
  },
  {
   "cell_type": "code",
   "execution_count": 32,
   "metadata": {},
   "outputs": [
    {
     "name": "stdout",
     "output_type": "stream",
     "text": [
      "10\n",
      "20\n",
      "30\n"
     ]
    }
   ],
   "source": [
    "print('''10\n",
    "20\n",
    "30''')"
   ]
  },
  {
   "cell_type": "code",
   "execution_count": 34,
   "metadata": {},
   "outputs": [
    {
     "data": {
      "text/plain": [
       "60"
      ]
     },
     "execution_count": 34,
     "metadata": {},
     "output_type": "execute_result"
    }
   ],
   "source": [
    "10 + \\\n",
    "20 + \\\n",
    "30\n",
    "# 여러 라인으로 문자열 작성"
   ]
  },
  {
   "cell_type": "code",
   "execution_count": 36,
   "metadata": {},
   "outputs": [
    {
     "name": "stdout",
     "output_type": "stream",
     "text": [
      "h\n",
      "e\n",
      "o\n"
     ]
    }
   ],
   "source": [
    "# 문자열 인덱싱 : 0 인덱싱 사용\n",
    "print('hello'[0])\n",
    "print('hello'[1])\n",
    "\n",
    "# 뒤에서 부터 인덱싱 사용 : 마지막 자료의 인덱싱은 -1\n",
    "print('hello'[-1])"
   ]
  },
  {
   "cell_type": "code",
   "execution_count": 40,
   "metadata": {},
   "outputs": [
    {
     "name": "stdout",
     "output_type": "stream",
     "text": [
      "world\n",
      "llo\n",
      "hello\n",
      "hello world\n"
     ]
    }
   ],
   "source": [
    "# 문자열 인덱싱 : 범위 문자열 인덱싱 [ start : end] -> start 는 포함, end 는 포함하지 않음\n",
    "\n",
    "print('hello world'[6:])\n",
    "print('hello world'[2:5])\n",
    "print('hello world'[ :5])\n",
    "print('hello world'[ :])"
   ]
  },
  {
   "cell_type": "code",
   "execution_count": 41,
   "metadata": {},
   "outputs": [
    {
     "name": "stdout",
     "output_type": "stream",
     "text": [
      "11\n"
     ]
    }
   ],
   "source": [
    "# 데이터의 길이를 구하는 함수 : len(데이터), 길이 반환\n",
    "\n",
    "print(len('hello world'))"
   ]
  },
  {
   "cell_type": "code",
   "execution_count": 50,
   "metadata": {},
   "outputs": [
    {
     "data": {
      "text/plain": [
       "'l'"
      ]
     },
     "execution_count": 50,
     "metadata": {},
     "output_type": "execute_result"
    }
   ],
   "source": [
    "var_a = 'hello world'\n",
    "\n",
    "var_a[-2]"
   ]
  },
  {
   "cell_type": "code",
   "execution_count": 51,
   "metadata": {},
   "outputs": [
    {
     "data": {
      "text/plain": [
       "10"
      ]
     },
     "execution_count": 51,
     "metadata": {},
     "output_type": "execute_result"
    }
   ],
   "source": [
    "var_a = 10\n",
    "var_a"
   ]
  },
  {
   "cell_type": "code",
   "execution_count": 58,
   "metadata": {},
   "outputs": [
    {
     "name": "stdout",
     "output_type": "stream",
     "text": [
      "5 + 7 = 12\n",
      "5 - 7 = -2\n",
      "5 * 7 = 35\n",
      "5 / 7 = 0.7142857142857143\n",
      "5 // 7 = 0\n",
      "5 % 7 = 5\n",
      "2 ** 3 = 8\n"
     ]
    }
   ],
   "source": [
    "# 숫자형 연산자 + - * / //(몫) %(나머지) **(거듭제곱)\n",
    "\n",
    "print('5 + 7 =', 5 + 7) # int\n",
    "print('5 - 7 =', 5 - 7)\n",
    "print('5 * 7 =', 5 * 7)\n",
    "print('5 / 7 =', 5 / 7) # float 으로 변환\n",
    "print('5 // 7 =', 5 // 7) # 나머지 값을 버린 정수\n",
    "print('5 % 7 =', 5 % 7) # 나머지 값\n",
    "print('2 ** 3 =', 2 ** 3)"
   ]
  },
  {
   "cell_type": "code",
   "execution_count": 68,
   "metadata": {},
   "outputs": [
    {
     "name": "stdout",
     "output_type": "stream",
     "text": [
      "150\n"
     ]
    }
   ],
   "source": [
    "# 복합연산자\n",
    "\n",
    "num_1 = 100\n",
    "num_1 += 50\n",
    "print(num_1)"
   ]
  },
  {
   "cell_type": "code",
   "execution_count": 59,
   "metadata": {},
   "outputs": [
    {
     "name": "stdout",
     "output_type": "stream",
     "text": [
      "문자를 입력하시오 : skks\n",
      "입력받은 문자 출력 : skks <class 'str'>\n"
     ]
    }
   ],
   "source": [
    "# input() 함수 : 키보드로부터 자료를 입력 받는 함수, str 타입으로 받는다\n",
    "\n",
    "input_str = input('문자를 입력하시오 : ')\n",
    "print('입력받은 문자 출력 :', input_str, type(input_str))"
   ]
  },
  {
   "cell_type": "code",
   "execution_count": 61,
   "metadata": {},
   "outputs": [
    {
     "name": "stdout",
     "output_type": "stream",
     "text": [
      "숫자를 입력하시오 : 111\n",
      "입력받은 숫자 출력 : 111 <class 'str'>\n",
      "int(input_num) 타입:  111\n",
      "float(input_num) 타입:  111.0\n"
     ]
    }
   ],
   "source": [
    "input_num = input('숫자를 입력하시오 : ')\n",
    "print('입력받은 숫자 출력 :', input_num, type(input_num))\n",
    "print('int(input_num) 타입: ', type(int(input_num)))\n",
    "print('float(input_num) 타입: ', type(float(input_num)))"
   ]
  },
  {
   "cell_type": "code",
   "execution_count": 84,
   "metadata": {},
   "outputs": [
    {
     "name": "stdout",
     "output_type": "stream",
     "text": [
      "숫자 입력 : 100\n",
      "숫자 입력 : 150\n",
      "250\n",
      "15000\n",
      "-50\n",
      "100\n"
     ]
    }
   ],
   "source": [
    "# 두 수를 입력 받아 두수의 합, 곱, 차, 나머지 값을 구하시오\n",
    "num_1 = int(input(\"숫자 입력 : \"))\n",
    "num_2 = int(input(\"숫자 입력 : \"))\n",
    "\n",
    "print(num_1 + num_2)\n",
    "print(num_1 * num_2)\n",
    "print(num_1 - num_2)\n",
    "print(num_1 % num_2)"
   ]
  },
  {
   "cell_type": "code",
   "execution_count": 77,
   "metadata": {},
   "outputs": [
    {
     "data": {
      "text/plain": [
       "54"
      ]
     },
     "execution_count": 77,
     "metadata": {},
     "output_type": "execute_result"
    }
   ],
   "source": [
    "int(54.9)"
   ]
  },
  {
   "cell_type": "markdown",
   "metadata": {},
   "source": [
    "# format 함수"
   ]
  },
  {
   "cell_type": "code",
   "execution_count": 86,
   "metadata": {},
   "outputs": [
    {
     "name": "stdout",
     "output_type": "stream",
     "text": [
      "100 + 150 = 250\n"
     ]
    }
   ],
   "source": [
    "print(f'{num_1} + {num_2} = {num_1 + num_2}')"
   ]
  },
  {
   "cell_type": "code",
   "execution_count": 88,
   "metadata": {},
   "outputs": [
    {
     "name": "stdout",
     "output_type": "stream",
     "text": [
      "5000 만원 있습니다 True\n"
     ]
    }
   ],
   "source": [
    "# format 을 이용한 문자열 작성\n",
    "\n",
    "format_a = '{} 만원 {} {}'.format(5000,'있습니다', True)\n",
    "\n",
    "print(format_a)"
   ]
  },
  {
   "cell_type": "code",
   "execution_count": 91,
   "metadata": {},
   "outputs": [
    {
     "name": "stdout",
     "output_type": "stream",
     "text": [
      "   52\n",
      "00052\n",
      "  +52\n",
      "   52\n",
      "  -52\n",
      "+  52\n"
     ]
    }
   ],
   "source": [
    "# 정수 출력의 다양한 형태\n",
    "print('{:5d}'.format(52))\n",
    "print('{:05d}'.format(52))\n",
    "print('{:+5d}'.format(52))\n",
    "print('{:-5d}'.format(52))\n",
    "print('{:5d}'.format(-52))\n",
    "print('{:=+5d}'.format(52))"
   ]
  },
  {
   "cell_type": "code",
   "execution_count": 101,
   "metadata": {},
   "outputs": [
    {
     "name": "stdout",
     "output_type": "stream",
     "text": [
      "32.56\n",
      "  32.56\n"
     ]
    }
   ],
   "source": [
    "# 실수 출력의 다양한 형태\n",
    "print('{:2.2f}'.format(32.5555))\n",
    "print('{:7.2f}'.format(32.5555))"
   ]
  },
  {
   "cell_type": "code",
   "execution_count": 107,
   "metadata": {},
   "outputs": [
    {
     "name": "stdout",
     "output_type": "stream",
     "text": [
      "  HELLO WORLD  \n",
      "  hello world  \n",
      "Hello World\n",
      "/  Hello World/\n",
      "/Hello World  /\n"
     ]
    },
    {
     "data": {
      "text/plain": [
       "1"
      ]
     },
     "execution_count": 107,
     "metadata": {},
     "output_type": "execute_result"
    }
   ],
   "source": [
    "# 문자열 관련 함수 : upper() , lower() , strip() -> 양옆의 공백을 지워주는 함수\n",
    "\n",
    "a = '  Hello World  '\n",
    "print(a.upper())\n",
    "print(a.lower())\n",
    "print(a.strip())\n",
    "print('/{}/'.format(a.rstrip()))\n",
    "print('/{}/'.format(a.lstrip()))\n",
    "\n",
    "a.upper().strip().count('H')"
   ]
  },
  {
   "cell_type": "markdown",
   "metadata": {},
   "source": [
    "# 키워드, 식별자, 변수, 문자열 관련 함수\n",
    "\n",
    "- 문자열 : format(), strip(), upper(), lower()\n",
    "- print() : 화면에 출력하는 함수\n",
    "- input() : 키보드에서 입력받는 함수 -> 문자열로 반환\n",
    "- len() : 데이터의 길이 반환\n",
    "- type() : 데이터의 타입 반환\n",
    "- int(), str(), float() : 데이터의 형 변환 함수"
   ]
  }
 ],
 "metadata": {
  "kernelspec": {
   "display_name": "Python 3 (ipykernel)",
   "language": "python",
   "name": "python3"
  },
  "language_info": {
   "codemirror_mode": {
    "name": "ipython",
    "version": 3
   },
   "file_extension": ".py",
   "mimetype": "text/x-python",
   "name": "python",
   "nbconvert_exporter": "python",
   "pygments_lexer": "ipython3",
   "version": "3.9.12"
  }
 },
 "nbformat": 4,
 "nbformat_minor": 4
}
