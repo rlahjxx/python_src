{
 "cells": [
  {
   "cell_type": "markdown",
   "id": "e64c760b",
   "metadata": {},
   "source": [
    "# chapter 8 클래스\n",
    "## chapter 8-1 클래스의 기본"
   ]
  },
  {
   "cell_type": "code",
   "execution_count": 13,
   "id": "9fc79b6f",
   "metadata": {},
   "outputs": [
    {
     "name": "stdout",
     "output_type": "stream",
     "text": [
      "윤인성 : 368, 92.0\n",
      "연하진 : 384, 96.0\n",
      "구지연 : 356, 89.0\n",
      "나선주 : 378, 94.5\n",
      "윤아린 : 389, 97.25\n",
      "윤명월 : 336, 84.0\n"
     ]
    }
   ],
   "source": [
    "# 학생 리스트 선언\n",
    "students = [\n",
    "    { \"name\": \"윤인성\", \"korean\": 87, \"math\": 98, \"english\": 88, \"science\": 95 },\n",
    "    { \"name\": \"연하진\", \"korean\": 92, \"math\": 98, \"english\": 96, \"science\": 98 },\n",
    "    { \"name\": \"구지연\", \"korean\": 76, \"math\": 96, \"english\": 94, \"science\": 90 },\n",
    "    { \"name\": \"나선주\", \"korean\": 98, \"math\": 92, \"english\": 96, \"science\": 92 },\n",
    "    { \"name\": \"윤아린\", \"korean\": 95, \"math\": 98, \"english\": 98, \"science\": 98 },\n",
    "    { \"name\": \"윤명월\", \"korean\": 64, \"math\": 88, \"english\": 92, \"science\": 92 }\n",
    "]\n",
    "\n",
    "# 학생을 한명씩 출력\n",
    "for student in students:\n",
    "    score_total = student['korean'] + student['math'] + student['english'] + student['science']\n",
    "    print(f'{student[\"name\"]} : {score_total}, {score_total/4}')"
   ]
  },
  {
   "cell_type": "code",
   "execution_count": 14,
   "id": "38ee0870",
   "metadata": {},
   "outputs": [
    {
     "name": "stdout",
     "output_type": "stream",
     "text": [
      "윤인성 : 363, 90.75\n",
      "연하진 : 384, 96.0\n",
      "구지연 : 356, 89.0\n"
     ]
    }
   ],
   "source": [
    "# 딕셔너리로 학생의 정보를 반환하는 함수를 정의해서 사용\n",
    "def create_students(name, korean, math, english, science):\n",
    "    return {'name' : name, 'korean' : korean, 'math' : math, 'english' : english, 'science' : science}\n",
    "\n",
    "# 학생 하나를 처리하는 함수 선언 (합을 구하는)\n",
    "def student_get_sum(student):\n",
    "    return student['korean'] + student['math'] + student['english'] + student['science']\n",
    "\n",
    "# 학생의 평균을 구하는 함수 선언\n",
    "def student_get_ave(student):\n",
    "    return student_get_sum(student) / 4\n",
    "\n",
    "def student_to_string(student):\n",
    "    return '{} : {}, {}'.format(student[\"name\"], student_get_sum(student), student_get_ave(student))\n",
    "\n",
    "students = [create_students('윤인성', 87, 88, 98, 90), \n",
    "           create_students('연하진', 92, 98, 96, 98), \n",
    "           create_students('구지연', 76, 96, 94, 90)]\n",
    "\n",
    "for student in students:\n",
    "    print(student_to_string(student))"
   ]
  },
  {
   "cell_type": "code",
   "execution_count": 21,
   "id": "fb26361a",
   "metadata": {},
   "outputs": [],
   "source": [
    "# 클래스 : 객체를 조금 더 효율적으로 생성하기 위해 만들어진 구문\n",
    "# class로 학생의 객체 선언\n",
    "class Student:\n",
    "\n",
    "    #  클래스 객체의 변수 초기화 -> 생성자가 실험되면 자동 실행\n",
    "    def __init__(self, name, korean, math, english, science):\n",
    "        self.name = name\n",
    "        self.korean = korean\n",
    "        self.math = math\n",
    "        self.english = english\n",
    "        self.science = science\n",
    "\n",
    "    def student_get_sum(self):\n",
    "        return self.korean + self.math + self.english + self.science\n",
    "    \n",
    "    def student_get_ave(self):\n",
    "        return self.get_sum() / 4\n",
    "\n",
    "    def student_to_string(self):\n",
    "        return '{} : {}, {}'.format(self.name, student_get_sum(), student_get_ave())\n",
    "\n",
    "    def student_get_sum(self):\n",
    "        return self.korean + self.math + self.english + self.science\n",
    "    \n",
    "    def student_get_ave(self):\n",
    "        return self.get_sum() / 4\n",
    "\n",
    "    def student_to_string(self):\n",
    "        return '{} : {}, {}'.format(self.name, student_get_sum(), student_get_ave())"
   ]
  },
  {
   "cell_type": "code",
   "execution_count": 26,
   "id": "700a5600",
   "metadata": {},
   "outputs": [
    {
     "name": "stdout",
     "output_type": "stream",
     "text": [
      "윤인성 87\n",
      "윤인성\n",
      "363\n"
     ]
    },
    {
     "ename": "NameError",
     "evalue": "name 'student_to_string' is not defined",
     "output_type": "error",
     "traceback": [
      "\u001b[1;31m---------------------------------------------------------------------------\u001b[0m",
      "\u001b[1;31mNameError\u001b[0m                                 Traceback (most recent call last)",
      "Input \u001b[1;32mIn [26]\u001b[0m, in \u001b[0;36m<cell line: 10>\u001b[1;34m()\u001b[0m\n\u001b[0;32m      8\u001b[0m \u001b[38;5;28mprint\u001b[39m(students[\u001b[38;5;241m0\u001b[39m]\u001b[38;5;241m.\u001b[39mstudent_get_sum())\n\u001b[0;32m     10\u001b[0m \u001b[38;5;28;01mfor\u001b[39;00m student \u001b[38;5;129;01min\u001b[39;00m students:\n\u001b[1;32m---> 11\u001b[0m     \u001b[38;5;28mprint\u001b[39m(\u001b[43mstudent_to_string\u001b[49m(student))\n",
      "\u001b[1;31mNameError\u001b[0m: name 'student_to_string' is not defined"
     ]
    }
   ],
   "source": [
    "a = Student('윤인성', 87, 88, 98, 90)\n",
    "print(a.name, a.korean)\n",
    "students = [Student('윤인성', 87, 88, 98, 90), \n",
    "           Student('연하진', 92, 98, 96, 98), \n",
    "           Student('구지연', 76, 96, 94, 90)]\n",
    "\n",
    "print(students[0].name)\n",
    "print(students[0].student_get_sum())\n",
    "\n",
    "for student in students:\n",
    "    print(student_to_string(student))"
   ]
  },
  {
   "cell_type": "code",
   "execution_count": 20,
   "id": "5957d37f",
   "metadata": {},
   "outputs": [
    {
     "name": "stdout",
     "output_type": "stream",
     "text": [
      "윤인성 : 363, 90.75\n",
      "연하진 : 384, 96.0\n",
      "구지연 : 356, 89.0\n"
     ]
    }
   ],
   "source": [
    "def create_student(name, korean, math, english, science):\n",
    "    return { 'name': name, 'korean' : korean,\n",
    "           'math':math, 'english':english, 'science':science}\n",
    "\n",
    "#  학생  하나를 처리하는 함수 선언 ( 합을 구하는 )\n",
    "def student_get_sum(student):\n",
    "    return  student['korean'] + student['math'] +\\\n",
    "                student['english'] + student['science']\n",
    "\n",
    "# 학생의 평균을 구하는 함수 선언 \n",
    "def student_get_avg(student):\n",
    "    return student_get_sum(student) / 4\n",
    "\n",
    "def student_to_string(student):\n",
    "    return \"{} : {}, {}\".format(student[\"name\"],\n",
    "                                student_get_sum(student), \n",
    "                                student_get_avg(student))\n",
    "\n",
    "students = [\n",
    "    create_student('윤인성', 87, 88, 98, 90),\n",
    "    create_student(\"연하진\", 92, 98, 96, 98),\n",
    "    create_student(\"구지연\", 76,  96, 94,  90)\n",
    "]\n",
    "\n",
    "for student in students:\n",
    "    print(student_to_string(student))"
   ]
  },
  {
   "cell_type": "code",
   "execution_count": 8,
   "id": "cca39955",
   "metadata": {},
   "outputs": [
    {
     "name": "stdout",
     "output_type": "stream",
     "text": [
      "이름, 국어, 영어, 수학 성적을 입력하시오 : a 80 20 70\n",
      "이름, 국어, 영어, 수학 성적을 입력하시오 : b 40 20 30\n",
      "이름, 국어, 영어, 수학 성적을 입력하시오 : c 50 60 70\n",
      "이름, 국어, 영어, 수학 성적을 입력하시오 : q\n",
      "{'a': {'국어': 80, '영어': 20, '수학': 70, '총점': 170, '평균': 56.666666666666664}, 'b': {'국어': 40, '영어': 20, '수학': 30, '총점': 90, '평균': 30.0}, 'c': {'국어': 50, '영어': 60, '수학': 70, '총점': 180, '평균': 60.0}}\n"
     ]
    }
   ],
   "source": [
    "# 문제) 키보드에서 학생들의 이름, 국어, 영어, 수학 성적 입력받아 저장한 후\n",
    "# 각 학생별로 이름, 국어, 영어, 수학, 총점, 평균 출력\n",
    "# 전체 학생의 총점이 가장 높은 학생의 정보 출력\n",
    "# 입력의 끝은 이름에 'q'가 입력되면 종료\n",
    "# 검색할 이름을 입력받아 자료의 이름 중에 있으면 검색된 자료 출력\n",
    "# class 를 활용\n",
    "students = {}\n",
    "while True :\n",
    "    student = input('이름, 국어, 영어, 수학 성적을 입력하시오 : ').split()\n",
    "    if student[0] == 'q':\n",
    "        break\n",
    "    elif len(student) != 4:\n",
    "        continue\n",
    "    name = student[0]\n",
    "    scores = {}\n",
    "    scores['국어'] = int(student[1])\n",
    "    scores['영어'] = int(student[2])\n",
    "    scores['수학'] = int(student[3])\n",
    "    students[name] = scores\n",
    "    tot = 0\n",
    "    for key in students:\n",
    "        tot = students[key]['국어']+students[key]['영어']+students[key]['수학']\n",
    "    scores['총점'] = tot\n",
    "    scores['평균'] = tot / 3\n",
    "print(students)"
   ]
  },
  {
   "cell_type": "code",
   "execution_count": 12,
   "id": "1f6578d3",
   "metadata": {},
   "outputs": [
    {
     "name": "stdout",
     "output_type": "stream",
     "text": [
      "c : {'국어': 50, '영어': 60, '수학': 70, '총점': 180, '평균': 60.0}\n"
     ]
    }
   ],
   "source": [
    "# 전체 학생의 총점이 가장 높은 학생의 정보 출력\n",
    "rank = 0\n",
    "for key in students:\n",
    "    if students[key]['총점'] > rank:\n",
    "        rank = students[key]['총점']\n",
    "        s = key\n",
    "print(f'{s} : {students[s]}')"
   ]
  },
  {
   "cell_type": "code",
   "execution_count": 17,
   "id": "e774f7cd",
   "metadata": {},
   "outputs": [
    {
     "name": "stdout",
     "output_type": "stream",
     "text": [
      "이름을 검색하세요 : c\n",
      "c : {'국어': 50, '영어': 60, '수학': 70, '총점': 180, '평균': 60.0}\n"
     ]
    }
   ],
   "source": [
    "# 검색할 이름을 입력받아 자료의 이름 중에 있으면 검색된 자료 출력\n",
    "search_name = input('이름을 검색하세요 : ')\n",
    "if search_name in students:\n",
    "    print(f'{search_name} : {students[search_name]}')"
   ]
  },
  {
   "cell_type": "code",
   "execution_count": 31,
   "id": "8c45fa6f",
   "metadata": {},
   "outputs": [
    {
     "name": "stdout",
     "output_type": "stream",
     "text": [
      "160\n",
      "370\n"
     ]
    }
   ],
   "source": [
    "tot = 0\n",
    "for key in students:\n",
    "    for item in students[key]:\n",
    "        tot += int(students[key][item])\n",
    "    print(tot)\n",
    "#         print(students[key][item])"
   ]
  },
  {
   "cell_type": "code",
   "execution_count": null,
   "id": "13df9358",
   "metadata": {},
   "outputs": [],
   "source": []
  }
 ],
 "metadata": {
  "kernelspec": {
   "display_name": "Python 3 (ipykernel)",
   "language": "python",
   "name": "python3"
  },
  "language_info": {
   "codemirror_mode": {
    "name": "ipython",
    "version": 3
   },
   "file_extension": ".py",
   "mimetype": "text/x-python",
   "name": "python",
   "nbconvert_exporter": "python",
   "pygments_lexer": "ipython3",
   "version": "3.9.12"
  }
 },
 "nbformat": 4,
 "nbformat_minor": 5
}
