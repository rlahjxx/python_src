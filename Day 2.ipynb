{
 "cells": [
  {
   "cell_type": "code",
   "execution_count": 12,
   "id": "330b0019",
   "metadata": {},
   "outputs": [
    {
     "name": "stdout",
     "output_type": "stream",
     "text": [
      "True\n",
      "False\n",
      "True\n",
      "False\n",
      "False\n",
      "False\n",
      "False\n"
     ]
    }
   ],
   "source": [
    "# 문자열 구성 파악\n",
    "print(\"TrainA10\".isalnum())  #알파벳 또는 숫자로만 구성\n",
    "print(\"TrainA10\".isalpha())  #알파벳으로만 구성\n",
    "print(\"TrainA10\".isidentifier())  #식별자로 사용할 수 있는지 확인\n",
    "print(\"TrainA10\".isdecimal())  #문자열의 정수 형태 확인\n",
    "print(\"TrainA10\".islower())  #소문자로만 구성\n",
    "print(\"TrainA10\".isupper())  #대문자로만 구성\n",
    "print(\"TrainA10\".isdigit())  #숫자 형태로만 구성"
   ]
  },
  {
   "cell_type": "code",
   "execution_count": 14,
   "id": "220b68aa",
   "metadata": {},
   "outputs": [
    {
     "name": "stdout",
     "output_type": "stream",
     "text": [
      "0\n",
      "5\n"
     ]
    }
   ],
   "source": [
    "#문자열 안에서 단어 검색 - find('단어') -> 단어가 처음 나오는 위치 반환, rfind('단어') -> 단어가 뒤에서부터 처음 나오는 위치 반환\n",
    "a_str = 'hellohello welcome'\n",
    "print(a_str.find('he'))  \n",
    "print(a_str.rfind('he'))"
   ]
  },
  {
   "cell_type": "code",
   "execution_count": 15,
   "id": "73b3e0ce",
   "metadata": {},
   "outputs": [
    {
     "name": "stdout",
     "output_type": "stream",
     "text": [
      "True\n",
      "False\n"
     ]
    }
   ],
   "source": [
    "# 문자열 내부에 어떤 문자열이 있는지 확인 -> '문자' in \"문자열\"\n",
    "print('hello' in a_str)\n",
    "print('a' in a_str)"
   ]
  },
  {
   "cell_type": "code",
   "execution_count": 20,
   "id": "c08beb93",
   "metadata": {},
   "outputs": [
    {
     "data": {
      "text/plain": [
       "['10', '20', '30']"
      ]
     },
     "execution_count": 20,
     "metadata": {},
     "output_type": "execute_result"
    }
   ],
   "source": [
    "# 문자열 자르기 함수 : 문자열.split('자르는 기준')\n",
    "a_str.split(' ')\n",
    "a_str.split('he')\n",
    "\n",
    "'10,20,30'.split(',')"
   ]
  },
  {
   "cell_type": "code",
   "execution_count": 23,
   "id": "5af96cfd",
   "metadata": {},
   "outputs": [
    {
     "name": "stdout",
     "output_type": "stream",
     "text": [
      "3 + 4 = 7\n",
      "3 + 4 = 7\n"
     ]
    }
   ],
   "source": [
    "print('3 + 4 = {}'.format(3 + 4))\n",
    "# f'문자열(표현식)몬쟈열'\n",
    "print(f'3 + 4 = {3 + 4}')"
   ]
  },
  {
   "cell_type": "markdown",
   "id": "6bc715b4",
   "metadata": {},
   "source": [
    "# chap 3. 조건문\n",
    "## chap 3-1. 불 자료형과 if 조건문"
   ]
  },
  {
   "cell_type": "code",
   "execution_count": 24,
   "id": "73071c95",
   "metadata": {},
   "outputs": [
    {
     "name": "stdout",
     "output_type": "stream",
     "text": [
      "under_20 :  True\n",
      "not under_20 :  False\n"
     ]
    }
   ],
   "source": [
    "# 비교 연산자 : ==(같다), !=(다르다), <, >, <=, >=\n",
    "# not, and, or\n",
    "x = 10\n",
    "under_20 = x < 20\n",
    "print('under_20 : ', under_20)\n",
    "print('not under_20 : ', not under_20)"
   ]
  },
  {
   "cell_type": "code",
   "execution_count": 26,
   "id": "a1c8701a",
   "metadata": {
    "scrolled": true
   },
   "outputs": [
    {
     "name": "stdout",
     "output_type": "stream",
     "text": [
      "True\n",
      "False\n",
      "False\n",
      "False\n",
      "True\n",
      "True\n",
      "True\n",
      "False\n"
     ]
    }
   ],
   "source": [
    "print(True and True)\n",
    "print(True and False)\n",
    "print(False and True)\n",
    "print(False and False)\n",
    "print(True or True)\n",
    "print(True or False)\n",
    "print(False or True)\n",
    "print(False or False)"
   ]
  },
  {
   "cell_type": "code",
   "execution_count": 28,
   "id": "3534e430",
   "metadata": {},
   "outputs": [
    {
     "name": "stdout",
     "output_type": "stream",
     "text": [
      "True 출력\n"
     ]
    }
   ],
   "source": [
    "# if 표현식 -> 표현식이 True인 경우에만 처리문장 실행\n",
    "if True:\n",
    "    print('True 출력')\n",
    "if False:\n",
    "    print('False 출력')  #조건식이 False이므로 처리하지 않음"
   ]
  },
  {
   "cell_type": "code",
   "execution_count": 30,
   "id": "3cea5a49",
   "metadata": {},
   "outputs": [
    {
     "name": "stdout",
     "output_type": "stream",
     "text": [
      "True 출력 a b\n"
     ]
    }
   ],
   "source": [
    "if 'a':\n",
    "    print('True 출력', 'a', 'b')\n",
    "if '':\n",
    "    print('False 출력', '')"
   ]
  },
  {
   "cell_type": "code",
   "execution_count": 62,
   "id": "b99be88c",
   "metadata": {},
   "outputs": [
    {
     "name": "stdout",
     "output_type": "stream",
     "text": [
      "숫자 입력 : 120\n",
      "음수 -100\n"
     ]
    }
   ],
   "source": [
    "# if 조건문 - 컴퓨터는 무조건 맨위에서부터 아래로 실행되기 때문에, if 조건문 -> elif 조건문 => else로 실행됨\n",
    "num_1 = int(input('숫자 입력 : '))\n",
    "if num_1 <= 100:\n",
    "    print('양수')\n",
    "elif num_1 >= 150:\n",
    "    print('양수 60')\n",
    "else:\n",
    "    print('음수 -100')"
   ]
  },
  {
   "cell_type": "code",
   "execution_count": 57,
   "id": "1ee692bc",
   "metadata": {
    "scrolled": true
   },
   "outputs": [
    {
     "name": "stdout",
     "output_type": "stream",
     "text": [
      "숫자 입력 : 20\n",
      "숫자 입력 : 30\n",
      "20 + 30 = 50\n"
     ]
    }
   ],
   "source": [
    "num_2 = input('숫자 입력 : ')\n",
    "num_3 = input('숫자 입력 : ')\n",
    "# print(num_2.isdigit())\n",
    "if num_2.isdigit() and num_3.isdigit():\n",
    "    print(f'{num_2} + {num_3} = {int(num_2) + int(num_3)}')"
   ]
  },
  {
   "cell_type": "code",
   "execution_count": 67,
   "id": "48f1d56c",
   "metadata": {},
   "outputs": [
    {
     "name": "stdout",
     "output_type": "stream",
     "text": [
      "지금은 오후입니다. 12시 11분\n"
     ]
    }
   ],
   "source": [
    "import datetime\n",
    "\n",
    "now = datetime.datetime.now()\n",
    "now.year\n",
    "now.month\n",
    "now.day\n",
    "\n",
    "if now.hour >= 12:\n",
    "    print(f'지금은 오후입니다. {now.hour}시 {now.minute}분')"
   ]
  },
  {
   "cell_type": "code",
   "execution_count": 69,
   "id": "de00163a",
   "metadata": {},
   "outputs": [
    {
     "name": "stdout",
     "output_type": "stream",
     "text": [
      "summer\n",
      "summer test\n"
     ]
    }
   ],
   "source": [
    "if now.month >= 6 and now.month <= 8:\n",
    "    print('summer')\n",
    "    \n",
    "if 6 <= now.month <= 8:\n",
    "    print('summer test')"
   ]
  },
  {
   "cell_type": "code",
   "execution_count": 84,
   "id": "bcb506a5",
   "metadata": {},
   "outputs": [
    {
     "name": "stdout",
     "output_type": "stream",
     "text": [
      "숫자 입력 : ㅂㅈㄷㅂㅈㄷ2\n",
      "짝수\n"
     ]
    }
   ],
   "source": [
    "# 문자열 그대로 가져와서 짝수 & 홀수 구분\n",
    "num = input('숫자 입력 : ')\n",
    "if num[-1] in ['0', '2', '4', '6', '8']:  #in '02468'도 가능\n",
    "    print(\"짝수\")\n",
    "else:\n",
    "    print(\"홀수\")"
   ]
  },
  {
   "cell_type": "code",
   "execution_count": null,
   "id": "f520a4d0",
   "metadata": {},
   "outputs": [],
   "source": [
    "# 숫자로 변환하여 2로 나눈 나머지 값이 0이면 짝수, 1이면 홀수 구분\n",
    "num = int(input('숫자 입력 : '))\n",
    "\n",
    "# 다르게 숫자 변환하는 방법\n",
    "# num = input('숫자 입력 : ')\n",
    "# num = int(num)\n",
    "\n",
    "if num % 2 == 0:\n",
    "    print(\"짝수\")\n",
    "else:\n",
    "    print(\"홀수\")"
   ]
  },
  {
   "cell_type": "code",
   "execution_count": 85,
   "id": "3eec2d79",
   "metadata": {},
   "outputs": [
    {
     "name": "stdout",
     "output_type": "stream",
     "text": [
      "숫자 입력 : 13\n",
      "홀수\n"
     ]
    }
   ],
   "source": [
    "# if ~ elif ~ else\n",
    "num = input('숫자 입력 : ')\n",
    "if num[-1] in '02468':\n",
    "    print(\"짝수\")\n",
    "else:\n",
    "    print(\"홀수\")"
   ]
  },
  {
   "cell_type": "code",
   "execution_count": 89,
   "id": "47410e7a",
   "metadata": {},
   "outputs": [
    {
     "name": "stdout",
     "output_type": "stream",
     "text": [
      "자료 입력 : 100 a4\n",
      "짝수\n",
      "end\n"
     ]
    }
   ],
   "source": [
    "input_data = input('자료 입력 : ')\n",
    "if input_data.isalnum():\n",
    "    if input_data.isdigit():\n",
    "        print(\"{}는 타입이 {}이다\".format(input_data, type(int(input_data))))\n",
    "    else:\n",
    "        print(\"{}는 타입이 {}이다\".format(input_data, type(input_data)))\n",
    "else:\n",
    "    if input_data[-1].isdigit():\n",
    "        if input_data[-1] in '02468':\n",
    "            print('짝수')\n",
    "        else:\n",
    "            print('홀수')\n",
    "    elif input_data[-1].isalpha():\n",
    "        print(\"문자\")\n",
    "print('end')"
   ]
  },
  {
   "cell_type": "code",
   "execution_count": 134,
   "id": "422edd14",
   "metadata": {},
   "outputs": [
    {
     "name": "stdout",
     "output_type": "stream",
     "text": [
      "숫자 입력 : 10\n",
      "부호 입력 : *\n",
      "숫자 입력 : 20\n",
      "10*20 = 200\n"
     ]
    }
   ],
   "source": [
    "# QUIZ) 숫자와 부호를 입력받아 계산식을 구하는 프로그램 작성 (입력 형식은 10 + 20)\n",
    "df1 = input('숫자 입력 : ')\n",
    "# df2 = input('부호 입력 : ')\n",
    "if df1.isdigit():\n",
    "    df2 = input('부호 입력 : ')\n",
    "    if df2 in ['+', '-', '*', '/']:\n",
    "        df3 = input('숫자 입력 : ')\n",
    "        if df3.isdigit():\n",
    "            if df2 == \"+\":\n",
    "                result = int(df1) + int(df3)\n",
    "            elif df2 == \"-\":\n",
    "                result = int(df1) - int(df3)\n",
    "            elif df2 == \"*\":\n",
    "                result = int(df1) * int(df3)\n",
    "            else:\n",
    "                result = int(df1) / int(df3)\n",
    "            print(f'{df1}{df2}{df3} = {result}')\n",
    "        else:\n",
    "            print('입력 오류 -> 숫자 입력')\n",
    "    else:\n",
    "        print('입력 오류 -> 부호 입력')\n",
    "else:\n",
    "    print('입력 오류 -> 숫자 입력')\n",
    "# pass라는 키워드를 이용하여 조건문을 미구현 가능"
   ]
  },
  {
   "cell_type": "markdown",
   "id": "d05b1c4b",
   "metadata": {},
   "source": [
    "# 리스트와 반복문\n",
    "- 리스트 : 여러가지의 자료를 하나의 자료로 묶은 자료 : [요소, 요소, ;;;]\n"
   ]
  },
  {
   "cell_type": "code",
   "execution_count": 101,
   "id": "e7bbd770",
   "metadata": {},
   "outputs": [
    {
     "name": "stdout",
     "output_type": "stream",
     "text": [
      "문자열\n",
      "[273, 103]\n",
      "문\n"
     ]
    }
   ],
   "source": [
    "list_a = [273, 103, '문자열',True]\n",
    "print(list_a[2])    #list_a의 각 요소를 참고\n",
    "print(list_a[:2])   #list_a의 처음부터 인덱스가 3인 자료 출력\n",
    "print(list_a[2][0]) #list_a의 요소 안에 있는 문자열의 인덱스가 0인 자료 출력"
   ]
  },
  {
   "cell_type": "code",
   "execution_count": 120,
   "id": "69e4b14e",
   "metadata": {},
   "outputs": [
    {
     "name": "stdout",
     "output_type": "stream",
     "text": [
      "[1, 2, 3, 4, 5, 6]\n",
      "[1, 2, 3, 1, 2, 3]\n",
      "6\n"
     ]
    }
   ],
   "source": [
    "# 문자열 + 문자열 -> 문자열 결합 'abc' + 'def' -> abcdef\n",
    "# 리스트 + 리스트 -> 리스트 결합\n",
    "list_a = [1,2,3]\n",
    "list_b = [4,5,6]\n",
    "print(list_a + list_b)\n",
    "\n",
    "# 문자열 * 숫자 -> 숫자만큼 문자열 반복\n",
    "# 리스트 * 숫자 -> 숫자만큼 리스트 반복\n",
    "print(list_a * 2)\n",
    "\n",
    "# 문자열 길이 구하는 함수 -> len(문자열)\n",
    "# 리스트의 길이 구하는 함수 -> len(리스트)\n",
    "print(len(list_a * 2))"
   ]
  },
  {
   "cell_type": "code",
   "execution_count": 121,
   "id": "bb3f1970",
   "metadata": {},
   "outputs": [
    {
     "data": {
      "text/plain": [
       "[1, 2, 3, [4, 5, 6]]"
      ]
     },
     "execution_count": 121,
     "metadata": {},
     "output_type": "execute_result"
    }
   ],
   "source": [
    "# 리스트에 요소 추가하는 함수 : append, insert\n",
    "# 리스트.append(요소) -> 마지막에 추가됨\n",
    "list_a.append(list_b)\n",
    "list_a"
   ]
  },
  {
   "cell_type": "code",
   "execution_count": 122,
   "id": "b98dc2b4",
   "metadata": {},
   "outputs": [
    {
     "data": {
      "text/plain": [
       "[1, 'test', 2, 3, [4, 5, 6]]"
      ]
     },
     "execution_count": 122,
     "metadata": {},
     "output_type": "execute_result"
    }
   ],
   "source": [
    "# 리스트.insert(추가하고자 하는 인덱스 위치, 요소)\n",
    "list_a.insert(1, 'test')\n",
    "list_a"
   ]
  },
  {
   "cell_type": "code",
   "execution_count": 123,
   "id": "624eb5ad",
   "metadata": {},
   "outputs": [
    {
     "data": {
      "text/plain": [
       "[1, 'test', 2, 3, [4, 5, 6], 4, 5, 6]"
      ]
     },
     "execution_count": 123,
     "metadata": {},
     "output_type": "execute_result"
    }
   ],
   "source": [
    "# 리스트의 요소를 리스트의 요소로 추가 : 리스트.extend(리스트)\n",
    "# list_a + list_b -> 기존의 리스트 값에 영항을 주지 않음\n",
    "# list_a.extend(list_b) -> list_a의 값이 변경됨\n",
    "list_a.extend(list_b)\n",
    "list_a"
   ]
  },
  {
   "cell_type": "code",
   "execution_count": 132,
   "id": "8a628183",
   "metadata": {},
   "outputs": [
    {
     "name": "stdout",
     "output_type": "stream",
     "text": [
      "계산식 입력 10 + 20 의 형식으로 : 10 * 30\n",
      "10*30 = 300\n"
     ]
    }
   ],
   "source": [
    "input_data = input('계산식 입력 10 + 20 의 형식으로 : ').split()\n",
    "# input_data\n",
    "if len(input_data) == 3:\n",
    "    if input_data[1] in '+-*/':\n",
    "        if input_data[0].isdigit() and input_data[2].isdigit():\n",
    "            if input_data[1] == '+':\n",
    "                result = int(input_data[0]) + int(input_data[2])\n",
    "            elif input_data[1] == '-':\n",
    "                result = int(input_data[0]) - int(input_data[2])\n",
    "            elif input_data[1] == '*':\n",
    "                result = int(input_data[0]) * int(input_data[2])\n",
    "            else:\n",
    "                result = int(input_data[0]) / int(input_data[2])\n",
    "            print(f'{input_data[0]}{input_data[1]}{input_data[2]} = {result}')\n",
    "        else:\n",
    "            print('입력 오류 : 숫자 오류')\n",
    "    else:\n",
    "        print('입력 오류 : 부호 오류')\n",
    "else:\n",
    "    print('입력 오류')\n",
    "        \n",
    "            \n",
    "# input_data = input_data.split()\n",
    "# 입력된 자료의 개수가 3이 아니면 종료\n",
    "# 부호가 '+, -, *, /'가 아니면 종료\n",
    "# 처음과 마지막 자료가 숫자가 아니면 종료\n",
    "# 계산식 종료"
   ]
  },
  {
   "cell_type": "code",
   "execution_count": 136,
   "id": "ea2fca87",
   "metadata": {},
   "outputs": [
    {
     "name": "stdout",
     "output_type": "stream",
     "text": [
      "[1, 3, 4, 5, 6]\n",
      "[1, 3, 4, 5]\n",
      "[1, 3, 5]\n"
     ]
    }
   ],
   "source": [
    "# 리스트의 요소 제거 : del 리스트명[인덱스], 리스트명.pop(인덱스)\n",
    "# 리스트 값으로 제거 : 리스트명.remove(값)\n",
    "# 리스트의 모든 값 제거 : 리스트명.clear()\n",
    "list_a = [1,2,3,4,5,6]\n",
    "del list_a[1]  # 파괴적 -> 기존의 자료 변경\n",
    "print(list_a)\n",
    "\n",
    "list_a.pop()  # 마지막 요소 삭제\n",
    "print(list_a)\n",
    "\n",
    "list_a.pop(2)\n",
    "print(list_a)"
   ]
  },
  {
   "cell_type": "code",
   "execution_count": 137,
   "id": "8ae2790c",
   "metadata": {},
   "outputs": [
    {
     "name": "stdout",
     "output_type": "stream",
     "text": [
      "[1, 1, 2, 3]\n",
      "[]\n"
     ]
    }
   ],
   "source": [
    "list_b = [1,2,1,2,3]\n",
    "list_b.remove(2)  # 처음 나오는 값 2가 삭제됨\n",
    "print(list_b)\n",
    "\n",
    "# 리스트명.clear()  리스트의 모든 요소 삭제\n",
    "list_b.clear()\n",
    "print(list_b)"
   ]
  },
  {
   "cell_type": "code",
   "execution_count": 138,
   "id": "83b3f7c2",
   "metadata": {},
   "outputs": [
    {
     "name": "stdout",
     "output_type": "stream",
     "text": [
      "[25, 34, 45, 78, 90, 147]\n",
      "[147, 90, 78, 45, 34, 25]\n"
     ]
    }
   ],
   "source": [
    "list_a = [34, 25, 147, 45, 78, 90]\n",
    "list_a.sort()  # 오름차순 정렬\n",
    "print(list_a)\n",
    "\n",
    "list_a.sort(reverse=True) # 내림차순 정렬\n",
    "print(list_a)"
   ]
  },
  {
   "cell_type": "code",
   "execution_count": 139,
   "id": "a63c3930",
   "metadata": {},
   "outputs": [
    {
     "name": "stdout",
     "output_type": "stream",
     "text": [
      "True\n",
      "False\n",
      "True\n"
     ]
    }
   ],
   "source": [
    "# 문자열 내부에 해당 문자가 있는지 확인 : '문자' in '문자열'\n",
    "# 리스트 내부에 해당 요소가 있는지 확인 : 요소 in 리스트\n",
    "list_a = [34, 25, 274, 45, 78, 90]\n",
    "print(34 in list_a)\n",
    "print('a' in list_a)\n",
    "print(100 not in list_a)"
   ]
  },
  {
   "cell_type": "code",
   "execution_count": 150,
   "id": "5f5d3d24",
   "metadata": {
    "scrolled": true
   },
   "outputs": [
    {
     "name": "stdout",
     "output_type": "stream",
     "text": [
      "0\n",
      "1\n",
      "2\n",
      "3\n",
      "4\n",
      "[34, 25, 274, 45, 78, 90]\n",
      "34\n",
      "25\n",
      "274\n",
      "45\n",
      "78\n",
      "90\n",
      "546\n"
     ]
    }
   ],
   "source": [
    "# for 반복문 -> for element in 반복자료:\n",
    "# list(range(5)) -> 0qnxj 5까지의 정수 반환\n",
    "for i in range(5):\n",
    "    print(i)\n",
    "\n",
    "# 리스트의 각 요소를 for 문장에서 출력\n",
    "print(list_a)\n",
    "total = 0\n",
    "for i in list_a:\n",
    "    print(i)\n",
    "    total += i\n",
    "print(total)"
   ]
  },
  {
   "cell_type": "code",
   "execution_count": 154,
   "id": "6787b0e4",
   "metadata": {},
   "outputs": [
    {
     "name": "stdout",
     "output_type": "stream",
     "text": [
      "1683\n",
      "1683\n"
     ]
    }
   ],
   "source": [
    "# 1부터 100까지의 수 중에서 3의 배수의 합을 구하세요\n",
    "# 1) range(100)\n",
    "total = 0\n",
    "for i in range(1,101):\n",
    "    if i%3 == 0:\n",
    "        total += i\n",
    "print(total)\n",
    "\n",
    "# 2) range(0,100,3) -> range(start, stop, step)\n",
    "total = 0\n",
    "for i in range(0,100,3):\n",
    "    total += i\n",
    "print(total)"
   ]
  },
  {
   "cell_type": "code",
   "execution_count": 168,
   "id": "29ebe73f",
   "metadata": {},
   "outputs": [
    {
     "name": "stdout",
     "output_type": "stream",
     "text": [
      "숫자 입력 : 9\n",
      "9 * 1 = 9\n",
      "9 * 2 = 18\n",
      "9 * 3 = 27\n",
      "9 * 4 = 36\n",
      "9 * 5 = 45\n",
      "9 * 6 = 54\n",
      "9 * 7 = 63\n",
      "9 * 8 = 72\n",
      "9 * 9 = 81\n"
     ]
    }
   ],
   "source": [
    "# 숫자를 입력받아 해당하는 숫자의 구구단을 출력하세요\n",
    "num = input('숫자 입력 : ')\n",
    "if num.isdigit():\n",
    "    for i in range(1,10):\n",
    "        print(f'{num} * {i} = {int(num)*i}')\n",
    "else:\n",
    "    print('입력 오류 : 숫자 입력')"
   ]
  },
  {
   "cell_type": "code",
   "execution_count": 171,
   "id": "922b7af2",
   "metadata": {},
   "outputs": [
    {
     "name": "stdout",
     "output_type": "stream",
     "text": [
      "숫자 입력 : eee\n"
     ]
    },
    {
     "ename": "ValueError",
     "evalue": "invalid literal for int() with base 10: 'eee'",
     "output_type": "error",
     "traceback": [
      "\u001b[1;31m---------------------------------------------------------------------------\u001b[0m",
      "\u001b[1;31mValueError\u001b[0m                                Traceback (most recent call last)",
      "Input \u001b[1;32mIn [171]\u001b[0m, in \u001b[0;36m<cell line: 2>\u001b[1;34m()\u001b[0m\n\u001b[0;32m      1\u001b[0m \u001b[38;5;66;03m# 숫자를 입력받아 해당하는 숫자의 구구단을 출력하세요\u001b[39;00m\n\u001b[1;32m----> 2\u001b[0m num \u001b[38;5;241m=\u001b[39m \u001b[38;5;28;43mint\u001b[39;49m\u001b[43m(\u001b[49m\u001b[38;5;28;43minput\u001b[39;49m\u001b[43m(\u001b[49m\u001b[38;5;124;43m'\u001b[39;49m\u001b[38;5;124;43m숫자 입력 : \u001b[39;49m\u001b[38;5;124;43m'\u001b[39;49m\u001b[43m)\u001b[49m\u001b[43m)\u001b[49m\n\u001b[0;32m      3\u001b[0m \u001b[38;5;66;03m# if num.isdigit():\u001b[39;00m\n\u001b[0;32m      4\u001b[0m \u001b[38;5;28;01mfor\u001b[39;00m i \u001b[38;5;129;01min\u001b[39;00m \u001b[38;5;28mrange\u001b[39m(\u001b[38;5;241m1\u001b[39m,\u001b[38;5;241m10\u001b[39m):\n",
      "\u001b[1;31mValueError\u001b[0m: invalid literal for int() with base 10: 'eee'"
     ]
    }
   ],
   "source": [
    "# 숫자를 입력받아 해당하는 숫자의 구구단을 출력하세요 (숫자만 입력하는 것이 확정된 경우에만 사용)\n",
    "num = int(input('숫자 입력 : '))\n",
    "for i in range(1,10):\n",
    "    print(f'{num} * {i} = {int(num)*i}')"
   ]
  },
  {
   "cell_type": "code",
   "execution_count": 158,
   "id": "933244c6",
   "metadata": {},
   "outputs": [
    {
     "name": "stdout",
     "output_type": "stream",
     "text": [
      "1\t2\t3\t\n",
      "4\t5\t6\t7\t\n",
      "8\t9\t\n"
     ]
    }
   ],
   "source": [
    "# list 안에 리스트\n",
    "list_a = [[1,2,3], [4,5,6,7], [8,9]]\n",
    "for element in list_a:\n",
    "    for row in element:\n",
    "        print(row,end='\\t')\n",
    "    print()"
   ]
  },
  {
   "cell_type": "code",
   "execution_count": 172,
   "id": "774c0ae9",
   "metadata": {},
   "outputs": [
    {
     "name": "stdout",
     "output_type": "stream",
     "text": [
      "[1, 2, 3, 4] [1, 2, 3, 4, 5]\n",
      "[1, 2, 3, 4]\n",
      "1 2 3 4\n"
     ]
    }
   ],
   "source": [
    "# list_a = [1,2,3,4] -> list_a => 1, 2, 3, 4 * 리스트 => 전개 연산자\n",
    "list_a = [1,2,3,4]\n",
    "c = [list_a]  # c -> [[1,2,3,4]] 파괴적(list_a의 요소를 건드리게 됨)\n",
    "b = [*list_a]  # b -> [1,2,3,4]  비파괴적(list_a의 요소를 건드리지 않고 복사한 것과 같음)\n",
    "\n",
    "list_a.append(5)  # list_a -> [1,2,3,4,5]\n",
    "\n",
    "# 전개 연산자를 사용하여 리스트 생성\n",
    "a_list = [1,2,3,4]\n",
    "b_list = [*a_list, 5]\n",
    "print(a_list, b_list)\n",
    "\n",
    "# 함수에서 전개 연산자 사용\n",
    "print(a_list)\n",
    "print(*a_list)  # print(a_list[0], a_list[1], a_list[2], a_list[3])"
   ]
  },
  {
   "cell_type": "code",
   "execution_count": 9,
   "id": "cea28b68",
   "metadata": {},
   "outputs": [
    {
     "name": "stdout",
     "output_type": "stream",
     "text": [
      "[1, 2, 3, 4]\n",
      "[[1, 2, 3, 4]]\n",
      "[[10, 2, 3, 4]]\n",
      "[10, 2, 3, 4]\n",
      "[10, 2, 3, 4]\n",
      "[10, 20, 3, 4]\n",
      "[10, 2, 3, 4]\n"
     ]
    }
   ],
   "source": [
    "# 파괴적 예시\n",
    "list_a = [1,2,3,4]\n",
    "print(list_a)\n",
    "\n",
    "c = [list_a]\n",
    "print(c)\n",
    "\n",
    "c[0][0] = 10\n",
    "print(c)\n",
    "\n",
    "print(list_a)\n",
    "\n",
    "# 비파괴적 예시\n",
    "b = [*list_a]\n",
    "print(b)\n",
    "\n",
    "b[1] = 20\n",
    "print(b)\n",
    "\n",
    "print(list_a)"
   ]
  },
  {
   "cell_type": "code",
   "execution_count": null,
   "id": "c6f01fbc",
   "metadata": {},
   "outputs": [],
   "source": []
  }
 ],
 "metadata": {
  "kernelspec": {
   "display_name": "Python 3 (ipykernel)",
   "language": "python",
   "name": "python3"
  },
  "language_info": {
   "codemirror_mode": {
    "name": "ipython",
    "version": 3
   },
   "file_extension": ".py",
   "mimetype": "text/x-python",
   "name": "python",
   "nbconvert_exporter": "python",
   "pygments_lexer": "ipython3",
   "version": "3.9.12"
  }
 },
 "nbformat": 4,
 "nbformat_minor": 5
}
